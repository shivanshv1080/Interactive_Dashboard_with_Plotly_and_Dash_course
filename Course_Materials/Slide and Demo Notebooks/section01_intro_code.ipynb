{
 "cells": [
  {
   "cell_type": "markdown",
   "id": "e68689f6",
   "metadata": {},
   "source": [
    "### Library Installations"
   ]
  },
  {
   "cell_type": "code",
   "execution_count": null,
   "id": "fad107e8",
   "metadata": {},
   "outputs": [],
   "source": [
    "# import sys\n",
    "# !conda install --yes --prefix {sys.prefix} plotly\n",
    "# !conda install --yes --prefix {sys.prefix} dash\n",
    "# !pip install --prefix {sys.prefix} jupyter-dash\n",
    "\n",
    "# for later\n",
    "# !pip install --prefix {sys.prefix} dash-bootstrap-components\n",
    "# !pip install --prefix {sys.prefix} dash_bootstrap_templates"
   ]
  },
  {
   "cell_type": "markdown",
   "id": "09f08ff0",
   "metadata": {},
   "source": [
    "### Creating A Dash App Code\n",
    "\n",
    "**NOTE: This code won't run as it is all empty and for instruction purposes only**"
   ]
  },
  {
   "cell_type": "code",
   "execution_count": null,
   "id": "daef7006",
   "metadata": {},
   "outputs": [],
   "source": [
    "# from dash import Dash, dcc, html\n",
    "# from dash.dependencies import Input, Output\n",
    "\n",
    "# app = Dash(__name__)\n",
    "\n",
    "# app.layout = html.Div([\n",
    "#     html.H2(), # HTML Header\n",
    "#     dcc.Dropdown(), # An Interactive Dropdown Menu\n",
    "#     dcc.Graph() # A Chart that changes based on Dropdown Menu Value\n",
    "# ])\n",
    "\n",
    "# @app.callback(Output(), Input()) # Ties dropdown to chart\n",
    "# def interactive_chart(input): # Create a function accepts dropdown value as argument\n",
    "#     return output # Usually a Plotly chart\n",
    "    \n",
    "# app.run_server(debug=True)"
   ]
  },
  {
   "cell_type": "markdown",
   "id": "10055ce8",
   "metadata": {},
   "source": [
    "### The Simplest Dash App"
   ]
  },
  {
   "cell_type": "code",
   "execution_count": null,
   "id": "f3a26ed1",
   "metadata": {},
   "outputs": [],
   "source": [
    "from dash import Dash, html\n",
    "\n",
    "app = Dash(__name__)\n",
    "\n",
    "app.layout = html.Div(\"Hello!\")\n",
    "\n",
    "if __name__ == \"__main__\":\n",
    "    app.run_server(port=8069) # change from default 8050 to have multiple apps running"
   ]
  },
  {
   "cell_type": "markdown",
   "id": "db823f24",
   "metadata": {},
   "source": [
    "### Simple Dash App Demo"
   ]
  },
  {
   "cell_type": "code",
   "execution_count": null,
   "id": "e6be8790",
   "metadata": {},
   "outputs": [],
   "source": [
    "from dash import html, dcc\n",
    "from dash.dependencies import Input, Output\n",
    "from jupyter_dash import JupyterDash\n",
    "\n",
    "app = JupyterDash(__name__)\n",
    "\n",
    "app.layout = html.Div([\n",
    "    \"Pick a Country\",\n",
    "    dcc.Dropdown(\n",
    "        options=[\"USA\", \"India\", \"China\", \"Indonesia\", \"Nigeria\"],\n",
    "        value=\"USA\",\n",
    "        id=\"country-dropdown\"\n",
    "    ),\n",
    "    html.H3(id=\"country-output\")\n",
    "])\n",
    "\n",
    "@app.callback(\n",
    "    Output(\"country-output\", \"children\"),\n",
    "    Input(\"country-dropdown\", \"value\")\n",
    ")\n",
    "def country_picker(country):\n",
    "    return f\"I live in {country}\"\n",
    "\n",
    "if __name__ == \"__main__\":\n",
    "    app.run_server(port=8060)"
   ]
  },
  {
   "cell_type": "markdown",
   "id": "96c6b385",
   "metadata": {},
   "source": [
    "### Interactive Visual Code"
   ]
  },
  {
   "cell_type": "code",
   "execution_count": null,
   "id": "983de986",
   "metadata": {},
   "outputs": [],
   "source": [
    "# import libraries and peek at DataFrame\n",
    "\n",
    "import seaborn as sns\n",
    "import pandas as pd\n",
    "\n",
    "df = sns.load_dataset(\"anscombe\")\n",
    "\n",
    "df.head()"
   ]
  },
  {
   "cell_type": "code",
   "execution_count": null,
   "id": "11cd77fd",
   "metadata": {},
   "outputs": [],
   "source": [
    "# Build a prototype scatterplot\n",
    "\n",
    "df[\"dataset\"].unique()\n",
    "\n",
    "df.query(\"dataset == 'III'\")\n",
    "\n",
    "import plotly.express as px\n",
    "\n",
    "px.scatter(\n",
    "    df.query(\"dataset == 'IV'\"),\n",
    "    x=\"x\",\n",
    "    y=\"y\"\n",
    ")"
   ]
  },
  {
   "cell_type": "code",
   "execution_count": 4,
   "id": "111a67cf",
   "metadata": {
    "scrolled": false
   },
   "outputs": [
    {
     "data": {
      "text/html": [
       "\n",
       "        <iframe\n",
       "            width=\"100%\"\n",
       "            height=\"650\"\n",
       "            src=\"http://127.0.0.1:8050/\"\n",
       "            frameborder=\"0\"\n",
       "            allowfullscreen\n",
       "            \n",
       "        ></iframe>\n",
       "        "
      ],
      "text/plain": [
       "<IPython.lib.display.IFrame at 0x7f79583daeb0>"
      ]
     },
     "metadata": {},
     "output_type": "display_data"
    }
   ],
   "source": [
    "# then get your app to work\n",
    "\n",
    "from dash import html, dcc, Dash\n",
    "from jupyter_dash import JupyterDash\n",
    "from dash.dependencies import Input, Output\n",
    "from dash.exceptions import PreventUpdate\n",
    "import plotly.express as px\n",
    "import pandas as pd\n",
    "import seaborn as sns\n",
    "\n",
    "df = sns.load_dataset(\"anscombe\")\n",
    "\n",
    "app = JupyterDash(__name__)\n",
    "\n",
    "app.layout = html.Div([\n",
    "    html.H3(\"Anscombe's Quartet\"),\n",
    "    dcc.Dropdown(id=\"dropdown\", options=df[\"dataset\"].unique()),\n",
    "    dcc.Graph(id=\"visual\")\n",
    "])\n",
    "\n",
    "@app.callback(Output(\"visual\", \"figure\"), Input(\"dropdown\", \"value\"))\n",
    "def anscombes_scatter(dataset):\n",
    "    figure = px.scatter(\n",
    "        df.query(f\"dataset == '{dataset}'\"),\n",
    "        x=\"x\",\n",
    "        y=\"y\"\n",
    "    )\n",
    "    return figure\n",
    "\n",
    "if __name__ == \"__main__\":\n",
    "    app.run_server(mode=\"inline\")"
   ]
  }
 ],
 "metadata": {
  "kernelspec": {
   "display_name": "Python 3 (ipykernel)",
   "language": "python",
   "name": "python3"
  },
  "language_info": {
   "codemirror_mode": {
    "name": "ipython",
    "version": 3
   },
   "file_extension": ".py",
   "mimetype": "text/x-python",
   "name": "python",
   "nbconvert_exporter": "python",
   "pygments_lexer": "ipython3",
   "version": "3.9.13"
  }
 },
 "nbformat": 4,
 "nbformat_minor": 5
}
