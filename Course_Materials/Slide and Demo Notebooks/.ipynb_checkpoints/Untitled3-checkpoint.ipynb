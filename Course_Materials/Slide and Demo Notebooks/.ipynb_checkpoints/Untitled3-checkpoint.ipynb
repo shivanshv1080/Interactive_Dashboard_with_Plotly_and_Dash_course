{
 "cells": [
  {
   "cell_type": "code",
   "execution_count": null,
   "id": "742c18a4",
   "metadata": {},
   "outputs": [
    {
     "name": "stdout",
     "output_type": "stream",
     "text": [
      "Dash is running on http://127.0.0.1:8069/\n",
      "\n",
      "Dash is running on http://127.0.0.1:8069/\n",
      "\n",
      " * Serving Flask app \"__main__\" (lazy loading)\n",
      " * Environment: production\n",
      "\u001b[31m   WARNING: This is a development server. Do not use it in a production deployment.\u001b[0m\n",
      "\u001b[2m   Use a production WSGI server instead.\u001b[0m\n",
      " * Debug mode: off\n"
     ]
    },
    {
     "name": "stderr",
     "output_type": "stream",
     "text": [
      " * Running on http://127.0.0.1:8069/ (Press CTRL+C to quit)\n",
      "127.0.0.1 - - [21/Feb/2023 11:48:36] \"GET / HTTP/1.1\" 200 -\n",
      "127.0.0.1 - - [21/Feb/2023 11:48:36] \"GET /_dash-component-suites/dash/deps/react@16.v2_7_0m1669048763.14.0.min.js HTTP/1.1\" 200 -\n",
      "127.0.0.1 - - [21/Feb/2023 11:48:36] \"GET /_dash-component-suites/dash/deps/polyfill@7.v2_7_0m1669048763.12.1.min.js HTTP/1.1\" 200 -\n",
      "127.0.0.1 - - [21/Feb/2023 11:48:36] \"GET /_dash-component-suites/dash/deps/prop-types@15.v2_7_0m1669048763.8.1.min.js HTTP/1.1\" 200 -\n",
      "127.0.0.1 - - [21/Feb/2023 11:48:36] \"GET /_dash-component-suites/dash/deps/react-dom@16.v2_7_0m1669048763.14.0.min.js HTTP/1.1\" 200 -\n",
      "127.0.0.1 - - [21/Feb/2023 11:48:36] \"GET /_dash-component-suites/dash/dcc/dash_core_components.v2_7_0m1669048763.js HTTP/1.1\" 200 -\n",
      "127.0.0.1 - - [21/Feb/2023 11:48:36] \"GET /_dash-component-suites/dash/dash-renderer/build/dash_renderer.v2_7_0m1669048763.min.js HTTP/1.1\" 200 -\n",
      "127.0.0.1 - - [21/Feb/2023 11:48:36] \"GET /_dash-component-suites/dash/dcc/dash_core_components-shared.v2_7_0m1669048763.js HTTP/1.1\" 200 -\n",
      "127.0.0.1 - - [21/Feb/2023 11:48:36] \"GET /_dash-component-suites/dash/html/dash_html_components.v2_0_6m1669048763.min.js HTTP/1.1\" 200 -\n",
      "127.0.0.1 - - [21/Feb/2023 11:48:36] \"GET /_dash-component-suites/dash/dash_table/bundle.v5_2_0m1669048763.js HTTP/1.1\" 200 -\n",
      "127.0.0.1 - - [21/Feb/2023 11:48:36] \"GET /_dash-layout HTTP/1.1\" 200 -\n",
      "127.0.0.1 - - [21/Feb/2023 11:48:36] \"GET /_dash-dependencies HTTP/1.1\" 200 -\n",
      "127.0.0.1 - - [21/Feb/2023 11:48:36] \"GET /_favicon.ico?v=2.7.0 HTTP/1.1\" 200 -\n"
     ]
    }
   ],
   "source": [
    "from dash import Dash, html\n",
    "\n",
    "app = Dash(__name__)\n",
    "\n",
    "app.layout = html.Div(\"Hello, how are you?\")\n",
    "\n",
    "if __name__ == \"__main__\":\n",
    "    app.run_server(port=8069)"
   ]
  },
  {
   "cell_type": "code",
   "execution_count": null,
   "id": "67c29dac",
   "metadata": {},
   "outputs": [],
   "source": []
  }
 ],
 "metadata": {
  "kernelspec": {
   "display_name": "Python 3 (ipykernel)",
   "language": "python",
   "name": "python3"
  },
  "language_info": {
   "codemirror_mode": {
    "name": "ipython",
    "version": 3
   },
   "file_extension": ".py",
   "mimetype": "text/x-python",
   "name": "python",
   "nbconvert_exporter": "python",
   "pygments_lexer": "ipython3",
   "version": "3.9.13"
  }
 },
 "nbformat": 4,
 "nbformat_minor": 5
}
