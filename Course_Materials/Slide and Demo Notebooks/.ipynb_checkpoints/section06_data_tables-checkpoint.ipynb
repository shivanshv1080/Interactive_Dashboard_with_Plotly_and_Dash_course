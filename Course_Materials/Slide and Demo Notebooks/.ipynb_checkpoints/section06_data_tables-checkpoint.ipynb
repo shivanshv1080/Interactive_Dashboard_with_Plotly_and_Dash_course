{
 "cells": [
  {
   "cell_type": "code",
   "execution_count": 10,
   "id": "d847c03d",
   "metadata": {},
   "outputs": [],
   "source": [
    "def table_type(df_column):\n",
    "    # Note - this only works with Pandas >= 1.0.0\n",
    "\n",
    "    if isinstance(df_column.dtype, pd.DatetimeTZDtype):\n",
    "        return 'datetime',\n",
    "    elif (isinstance(df_column.dtype, pd.StringDtype) or\n",
    "            isinstance(df_column.dtype, pd.BooleanDtype) or\n",
    "            isinstance(df_column.dtype, pd.CategoricalDtype) or\n",
    "            isinstance(df_column.dtype, pd.PeriodDtype)):\n",
    "        return 'text'\n",
    "    elif (isinstance(df_column.dtype, pd.SparseDtype) or\n",
    "            isinstance(df_column.dtype, pd.IntervalDtype) or\n",
    "            isinstance(df_column.dtype, pd.Int8Dtype) or\n",
    "            isinstance(df_column.dtype, pd.Int16Dtype) or\n",
    "            isinstance(df_column.dtype, pd.Int32Dtype) or\n",
    "            isinstance(df_column.dtype, pd.Int64Dtype)):\n",
    "        return 'numeric'\n",
    "    else:\n",
    "        return 'any'"
   ]
  },
  {
   "cell_type": "code",
   "execution_count": 2,
   "id": "39cb6cf2",
   "metadata": {},
   "outputs": [
    {
     "name": "stdout",
     "output_type": "stream",
     "text": [
      "Dash app running on http://127.0.0.1:8282/\n"
     ]
    }
   ],
   "source": [
    "from jupyter_dash import JupyterDash\n",
    "from dash import dcc, html, dash_table\n",
    "import dash_bootstrap_components as dbc\n",
    "from dash.dependencies import Output, Input\n",
    "from dash.exceptions import PreventUpdate\n",
    "from dash_bootstrap_templates import load_figure_template\n",
    "\n",
    "import plotly.express as px\n",
    "import pandas as pd\n",
    "import numpy as np\n",
    "\n",
    "dbc_css = \"https://cdn.jsdelivr.net/gh/AnnMarieW/dash-bootstrap-templates/dbc.min.css\"\n",
    "\n",
    "from dash import dash_table\n",
    "\n",
    "app = JupyterDash(__name__, # external_stylesheets=[dbc.themes.SLATE, dbc_css]\n",
    "                 )\n",
    "\n",
    "education = pd.read_csv(\"states_all.csv\").iloc[:, 1:]\n",
    "\n",
    "from dash import dash_table\n",
    "\n",
    "app.layout = html.Div(\n",
    "   dash_table.DataTable(             \n",
    "       columns=[{\"name\": i, \"id\": i} for i in education.columns],\n",
    "       data=education.to_dict(\"records\"),\n",
    "#        filter_action=\"native\",\n",
    "#        sort_action=\"native\",\n",
    "#        export_format=\"csv\"\n",
    "   )\n",
    "#        style_header={\n",
    "#             'backgroundColor': 'rgb(30, 30, 30)',\n",
    "#             'color': 'lightgrey',\n",
    "#             'font-family': \"Arial\"\n",
    "#         },\n",
    "#         style_data={\n",
    "#             'backgroundColor': 'rgb(50, 50, 50)',\n",
    "#             'color': 'grey',\n",
    "#             'font-family': \"Arial\"\n",
    "#         }\n",
    "#    )\n",
    ")\n",
    "\n",
    "app.run_server(debug=True, port=8282)\n"
   ]
  },
  {
   "cell_type": "code",
   "execution_count": 5,
   "id": "be605112",
   "metadata": {},
   "outputs": [
    {
     "name": "stdout",
     "output_type": "stream",
     "text": [
      "Dash app running on http://127.0.0.1:8282/\n"
     ]
    }
   ],
   "source": [
    "from jupyter_dash import JupyterDash\n",
    "from dash import dcc, html, dash_table\n",
    "import dash_bootstrap_components as dbc\n",
    "from dash.dependencies import Output, Input\n",
    "from dash.exceptions import PreventUpdate\n",
    "from dash_bootstrap_templates import load_figure_template\n",
    "\n",
    "import plotly.express as px\n",
    "import pandas as pd\n",
    "import numpy as np\n",
    "\n",
    "dbc_css = \"https://cdn.jsdelivr.net/gh/AnnMarieW/dash-bootstrap-templates/dbc.min.css\"\n",
    "\n",
    "from dash import dash_table\n",
    "\n",
    "app = JupyterDash(__name__, external_stylesheets=[dbc.themes.SLATE, dbc_css])\n",
    "\n",
    "education = pd.read_csv(\"states_all.csv\").iloc[:, 1:]\n",
    "\n",
    "app.layout = dbc.Container(\n",
    "    dbc.Table.from_dataframe(\n",
    "        education, \n",
    "        striped=True, \n",
    "        bordered=True, \n",
    "        hover=True,\n",
    "        color=\"dark\",\n",
    "        class_name=\"dbc\"\n",
    "    )\n",
    ")\n",
    "\n",
    "app.run_server(debug=True,port=8282)\n"
   ]
  }
 ],
 "metadata": {
  "kernelspec": {
   "display_name": "Python 3 (ipykernel)",
   "language": "python",
   "name": "python3"
  },
  "language_info": {
   "codemirror_mode": {
    "name": "ipython",
    "version": 3
   },
   "file_extension": ".py",
   "mimetype": "text/x-python",
   "name": "python",
   "nbconvert_exporter": "python",
   "pygments_lexer": "ipython3",
   "version": "3.9.13"
  }
 },
 "nbformat": 4,
 "nbformat_minor": 5
}
