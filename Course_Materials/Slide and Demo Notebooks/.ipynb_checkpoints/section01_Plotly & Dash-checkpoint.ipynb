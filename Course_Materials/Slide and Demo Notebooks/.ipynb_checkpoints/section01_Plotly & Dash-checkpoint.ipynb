{
 "cells": [
  {
   "cell_type": "code",
   "execution_count": 1,
   "id": "bb194082",
   "metadata": {},
   "outputs": [],
   "source": [
    "from dash import Dash, html, dcc\n",
    "from dash.dependencies import Output, Input\n",
    "from jupyter_dash import JupyterDash\n",
    "import plotly.express as px\n",
    "import pandas as pd"
   ]
  },
  {
   "cell_type": "code",
   "execution_count": 2,
   "id": "aff1160b",
   "metadata": {},
   "outputs": [
    {
     "ename": "NameError",
     "evalue": "name 'app' is not defined",
     "output_type": "error",
     "traceback": [
      "\u001b[0;31m---------------------------------------------------------------------------\u001b[0m",
      "\u001b[0;31mNameError\u001b[0m                                 Traceback (most recent call last)",
      "\u001b[0;32m/var/folders/f8/075hbnj13wb0f9yzh9k4nyz00000gn/T/ipykernel_38152/1277886642.py\u001b[0m in \u001b[0;36m<module>\u001b[0;34m\u001b[0m\n\u001b[0;32m----> 1\u001b[0;31m app.layout = html.Div([\n\u001b[0m\u001b[1;32m      2\u001b[0m     \u001b[0;34m\"Pick a color!\"\u001b[0m\u001b[0;34m,\u001b[0m\u001b[0;34m\u001b[0m\u001b[0;34m\u001b[0m\u001b[0m\n\u001b[1;32m      3\u001b[0m     dcc.Dropdown(\n\u001b[1;32m      4\u001b[0m         options=[\n\u001b[1;32m      5\u001b[0m             \u001b[0;34m{\u001b[0m\u001b[0;34m\"label\"\u001b[0m\u001b[0;34m:\u001b[0m \u001b[0;34m\"Red\"\u001b[0m\u001b[0;34m,\u001b[0m \u001b[0;34m\"value\"\u001b[0m\u001b[0;34m:\u001b[0m \u001b[0;34m\"#FF0000\"\u001b[0m\u001b[0;34m}\u001b[0m\u001b[0;34m,\u001b[0m\u001b[0;34m\u001b[0m\u001b[0;34m\u001b[0m\u001b[0m\n",
      "\u001b[0;31mNameError\u001b[0m: name 'app' is not defined"
     ]
    }
   ],
   "source": [
    "app.layout = html.Div([\n",
    "    \"Pick a color!\",\n",
    "    dcc.Dropdown(\n",
    "        options=[\n",
    "            {\"label\": \"Red\", \"value\": \"#FF0000\"},\n",
    "            {\"label\": \"Green\", \"value\": \"#00FF00\"},\n",
    "            {\"label\": \"Blue\", \"value\": \"#0000FF\"}\n",
    "        ],\n",
    "        id=\"color-input\",\n",
    "        value=\"#FF0000\"\n",
    "    )\n",
    "])\n",
    "\n",
    "if __name__ == \"__main__\":\n",
    "    app.run_server(mode=\"inline\")"
   ]
  },
  {
   "cell_type": "code",
   "execution_count": null,
   "id": "c6552e81",
   "metadata": {},
   "outputs": [],
   "source": [
    "import seaborn as sb\n",
    "\n",
    "df = sb.load_dataset(\"anscombe\")\n",
    "\n",
    "df.head()"
   ]
  },
  {
   "cell_type": "code",
   "execution_count": null,
   "id": "c7b4fff1",
   "metadata": {},
   "outputs": [],
   "source": [
    "df.head()"
   ]
  },
  {
   "cell_type": "code",
   "execution_count": null,
   "id": "02ea37c8",
   "metadata": {},
   "outputs": [],
   "source": [
    "px.scatter(df, x=\"x\", y=\"y\")"
   ]
  },
  {
   "cell_type": "code",
   "execution_count": null,
   "id": "ba1ee322",
   "metadata": {},
   "outputs": [],
   "source": [
    "px.scatter(df.loc[df[\"dataset\"]==\"II\"], x=\"x\", y=\"y\")"
   ]
  },
  {
   "cell_type": "code",
   "execution_count": null,
   "id": "91c3248d",
   "metadata": {},
   "outputs": [],
   "source": [
    "app = JupyterDash(__name__)\n",
    "\n",
    "app.layout = html.Div([\n",
    "    html.H3(\"Anscombe's Quartet\"),\n",
    "    dcc.Graph(\n",
    "        id=\"visual\",\n",
    "        figure=px.scatter(df.loc[df[\"dataset\"]==\"II\"], x=\"x\", y=\"y\")\n",
    "    )\n",
    "])\n",
    "\n",
    "if __name__ == \"__main__\":\n",
    "    app.run_server(mode=\"inline\")"
   ]
  },
  {
   "cell_type": "code",
   "execution_count": null,
   "id": "0c682ef0",
   "metadata": {},
   "outputs": [],
   "source": [
    "app = JupyterDash(__name__)\n",
    "\n",
    "app.layout = html.Div([\n",
    "    html.H3(\"Anscombe's Quartet\"),\n",
    "    dcc.Dropdown(\n",
    "        id=\"dropdown\",\n",
    "        options=[{\"label\": x, \"value\": x} for x in df[\"dataset\"].unique()]\n",
    "    ),\n",
    "    dcc.Graph(\n",
    "        id=\"visual\",\n",
    "        figure=px.scatter(df.loc[df[\"dataset\"]==\"II\"], x=\"x\", y=\"y\")\n",
    "    )\n",
    "])\n",
    "\n",
    "if __name__ == \"__main__\":\n",
    "    app.run_server(mode=\"inline\")"
   ]
  },
  {
   "cell_type": "code",
   "execution_count": null,
   "id": "2cb52949",
   "metadata": {},
   "outputs": [],
   "source": [
    "app = JupyterDash(__name__)\n",
    "\n",
    "app.layout = html.Div([\n",
    "    html.H3(\"Anscombe's Quartet\"),\n",
    "    dcc.Dropdown(\n",
    "        id=\"dropdown\",\n",
    "        options=[{\"label\": x, \"value\": x} for x in df[\"dataset\"].unique()]\n",
    "    ),\n",
    "    dcc.Graph(id=\"visual\")\n",
    "])\n",
    "\n",
    "@app.callback(Output(\"visual\", \"figure\"), Input(\"dropdown\", \"value\"))\n",
    "def interactive_visual(selection):\n",
    "    fig=px.scatter(df.loc[df[\"dataset\"]==selection], x=\"x\", y=\"y\")\n",
    "    return fig\n",
    "\n",
    "if __name__ == \"__main__\":\n",
    "    app.run_server(mode=\"inline\")"
   ]
  },
  {
   "cell_type": "code",
   "execution_count": null,
   "id": "513f6d9d",
   "metadata": {},
   "outputs": [],
   "source": [
    "import pandas as pd\n",
    "\n",
    "df = pd.read_csv(\"states_all.csv\")\n",
    "\n",
    "df.head()"
   ]
  },
  {
   "cell_type": "code",
   "execution_count": null,
   "id": "18fbb7c9",
   "metadata": {},
   "outputs": [],
   "source": [
    "education = df.loc[:,[\"STATE\", \"YEAR\", \"TOTAL_EXPENDITURE\"]]"
   ]
  },
  {
   "cell_type": "code",
   "execution_count": null,
   "id": "b698f96c",
   "metadata": {},
   "outputs": [],
   "source": [
    "education.head()"
   ]
  },
  {
   "cell_type": "code",
   "execution_count": null,
   "id": "63be12fc",
   "metadata": {},
   "outputs": [],
   "source": [
    "import plotly.express as px"
   ]
  },
  {
   "cell_type": "code",
   "execution_count": null,
   "id": "a365cc35",
   "metadata": {},
   "outputs": [],
   "source": [
    "px.line(\n",
    "    education.query(\"STATE in ['CALIFORNIA', 'MASSACHUSETTS']\"),\n",
    "    x=\"YEAR\",\n",
    "    y=\"TOTAL_EXPENDITURE\",\n",
    "    color=\"STATE\",\n",
    "    title=\"Education Spend in California vs. Massachusetts\"\n",
    ")"
   ]
  },
  {
   "cell_type": "code",
   "execution_count": null,
   "id": "946233a4",
   "metadata": {},
   "outputs": [],
   "source": [
    "px.bar(\n",
    "    education.query(\"STATE in ['CALIFORNIA', 'MASSACHUSETTS']\"),\n",
    "    x=\"YEAR\",\n",
    "    y=\"TOTAL_EXPENDITURE\",\n",
    "    color=\"STATE\",\n",
    "    title=\"Education Spend in California vs. Massachusetts\"\n",
    ")"
   ]
  },
  {
   "cell_type": "code",
   "execution_count": 3,
   "id": "3eecf3c3",
   "metadata": {},
   "outputs": [
    {
     "ename": "NameError",
     "evalue": "name 'df' is not defined",
     "output_type": "error",
     "traceback": [
      "\u001b[0;31m---------------------------------------------------------------------------\u001b[0m",
      "\u001b[0;31mNameError\u001b[0m                                 Traceback (most recent call last)",
      "\u001b[0;32m/var/folders/f8/075hbnj13wb0f9yzh9k4nyz00000gn/T/ipykernel_38152/1032550378.py\u001b[0m in \u001b[0;36m<module>\u001b[0;34m\u001b[0m\n\u001b[0;32m----> 1\u001b[0;31m revenue = df.loc[df[\"YEAR\"]==2015, [\"STATE\", \"FEDERAL_REVENUE\", \"STATE_REVENUE\", \"LOCAL_REVENUE\"]].melt(\n\u001b[0m\u001b[1;32m      2\u001b[0m     \u001b[0mid_vars\u001b[0m\u001b[0;34m=\u001b[0m\u001b[0;34m\"STATE\"\u001b[0m\u001b[0;34m,\u001b[0m\u001b[0;34m\u001b[0m\u001b[0;34m\u001b[0m\u001b[0m\n\u001b[1;32m      3\u001b[0m     \u001b[0mvar_name\u001b[0m\u001b[0;34m=\u001b[0m\u001b[0;34m\"TYPE\"\u001b[0m\u001b[0;34m,\u001b[0m\u001b[0;34m\u001b[0m\u001b[0;34m\u001b[0m\u001b[0m\n\u001b[1;32m      4\u001b[0m     \u001b[0mvalue_name\u001b[0m\u001b[0;34m=\u001b[0m\u001b[0;34m\"REVENUE\"\u001b[0m\u001b[0;34m\u001b[0m\u001b[0;34m\u001b[0m\u001b[0m\n\u001b[1;32m      5\u001b[0m )\n",
      "\u001b[0;31mNameError\u001b[0m: name 'df' is not defined"
     ]
    }
   ],
   "source": [
    "revenue = df.loc[df[\"YEAR\"]==2015, [\"STATE\", \"FEDERAL_REVENUE\", \"STATE_REVENUE\", \"LOCAL_REVENUE\"]].melt(\n",
    "    id_vars=\"STATE\",\n",
    "    var_name=\"TYPE\",\n",
    "    value_name=\"REVENUE\"\n",
    ")\n",
    "\n",
    "revenue = revenue.query(\"STATE in ['CALIFORNIA', 'IDAHO', 'MASSACHUSETTS', 'NORTH_CAROLINA']\")"
   ]
  },
  {
   "cell_type": "code",
   "execution_count": null,
   "id": "50262929",
   "metadata": {},
   "outputs": [],
   "source": [
    "revenue"
   ]
  },
  {
   "cell_type": "code",
   "execution_count": null,
   "id": "abe099ab",
   "metadata": {},
   "outputs": [],
   "source": [
    "px.bar(\n",
    "    revenue,\n",
    "    x=\"STATE\",\n",
    "    y=\"REVENUE\",\n",
    "    color=\"TYPE\",\n",
    "    title=\"Revenue Breakdown by State\"\n",
    ")"
   ]
  },
  {
   "cell_type": "code",
   "execution_count": null,
   "id": "20a1f160",
   "metadata": {},
   "outputs": [],
   "source": [
    "px.bar(\n",
    "    revenue,\n",
    "    x=\"STATE\",\n",
    "    y=\"REVENUE\",\n",
    "    color=\"TYPE\",\n",
    "    barmode=\"group\",\n",
    "    title=\"Revenue Breakdown by State\"\n",
    ")"
   ]
  },
  {
   "cell_type": "code",
   "execution_count": null,
   "id": "b98bbcd7",
   "metadata": {},
   "outputs": [],
   "source": [
    "expenditure = df.loc[df[\"YEAR\"]==2015,[\"STATE\",\"TOTAL_EXPENDITURE\",\"AVG_MATH_8_SCORE\",\"AVG_READING_8_SCORE\"]].fillna(0)"
   ]
  },
  {
   "cell_type": "code",
   "execution_count": null,
   "id": "f3f0ba91",
   "metadata": {},
   "outputs": [],
   "source": [
    "expenditure.head()"
   ]
  },
  {
   "cell_type": "code",
   "execution_count": null,
   "id": "a68c7a87",
   "metadata": {},
   "outputs": [],
   "source": [
    "px.scatter(\n",
    "    expenditure,\n",
    "    x=\"AVG_MATH_8_SCORE\",\n",
    "    y=\"AVG_READING_8_SCORE\",\n",
    "    title = \"Math & Reading Scores\"\n",
    ")"
   ]
  },
  {
   "cell_type": "code",
   "execution_count": null,
   "id": "e2f0a689",
   "metadata": {},
   "outputs": [],
   "source": [
    "px.scatter(\n",
    "    expenditure,\n",
    "    x=\"AVG_MATH_8_SCORE\",\n",
    "    y=\"AVG_READING_8_SCORE\",\n",
    "    size=\"TOTAL_EXPENDITURE\",\n",
    "    title = \"Math & Reading Scores by Spend\"\n",
    ")"
   ]
  },
  {
   "cell_type": "code",
   "execution_count": null,
   "id": "b43ecd94",
   "metadata": {},
   "outputs": [],
   "source": [
    "px.scatter(\n",
    "    expenditure,\n",
    "    x=\"AVG_MATH_8_SCORE\",\n",
    "    y=\"AVG_READING_8_SCORE\",\n",
    "    size=\"TOTAL_EXPENDITURE\",\n",
    "    trendline=\"ols\",\n",
    "    title = \"Math & Reading Scores by Spend\"\n",
    ")"
   ]
  },
  {
   "cell_type": "code",
   "execution_count": null,
   "id": "25e04667",
   "metadata": {},
   "outputs": [],
   "source": [
    "grades = df.loc[:,[\"STATE\",\"YEAR\",\"AVG_MATH_4_SCORE\"]]"
   ]
  },
  {
   "cell_type": "code",
   "execution_count": null,
   "id": "306930a4",
   "metadata": {},
   "outputs": [],
   "source": [
    "grades.head()"
   ]
  },
  {
   "cell_type": "code",
   "execution_count": null,
   "id": "d1db1119",
   "metadata": {},
   "outputs": [],
   "source": [
    "px.histogram(\n",
    "    grades,\n",
    "    x=\"AVG_MATH_4_SCORE\",\n",
    "    title=\"4th Grade Math Scores\"\n",
    ")"
   ]
  },
  {
   "cell_type": "code",
   "execution_count": null,
   "id": "9ae9ee83",
   "metadata": {},
   "outputs": [],
   "source": [
    "px.histogram(\n",
    "    grades,\n",
    "    x=\"AVG_MATH_4_SCORE\",\n",
    "    nbins=20,\n",
    "    histnorm=\"percent\",\n",
    "    text_auto=True,\n",
    "    title=\"4th Grade Math Scores\"\n",
    ")"
   ]
  },
  {
   "cell_type": "code",
   "execution_count": null,
   "id": "9cb854e7",
   "metadata": {},
   "outputs": [],
   "source": [
    "px.pie(\n",
    "    revenue,\n",
    "    values=\"REVENUE\",\n",
    "    names=\"TYPE\",\n",
    "    title=\"Revenue Breakdown\"\n",
    ")"
   ]
  },
  {
   "cell_type": "code",
   "execution_count": null,
   "id": "d3370b45",
   "metadata": {},
   "outputs": [],
   "source": [
    "px.pie(\n",
    "    revenue,\n",
    "    values=\"REVENUE\",\n",
    "    names=\"TYPE\",\n",
    "    hole=0.7,\n",
    "    category_orders={\"TYPE\":[\"STATE_REVENUE\",\"LOCAL_REVENUE\",\"FEDERAL_REVENUE\"]},\n",
    "    color_discrete_sequence=px.colors.qualitative.T10,\n",
    "    title=\"Revenue Breakdown\"\n",
    ").update_layout(\n",
    "    title_font = dict(\n",
    "        color=\"grey\",\n",
    "        size=24\n",
    "    ),\n",
    "    title = {\n",
    "        \"x\":0.45,\n",
    "        \"y\":0.9\n",
    "    },\n",
    "    legend_orientation = \"h\"\n",
    ")"
   ]
  },
  {
   "cell_type": "code",
   "execution_count": null,
   "id": "6ca359f4",
   "metadata": {},
   "outputs": [],
   "source": [
    "px.line(\n",
    "    education.query(\"STATE in ['CALIFORNIA', 'MASSACHUSETTS']\"),\n",
    "    x=\"YEAR\",\n",
    "    y=\"TOTAL_EXPENDITURE\",\n",
    "    color=\"STATE\",\n",
    "    title=\"Education Spend by State\"\n",
    ")"
   ]
  },
  {
   "cell_type": "code",
   "execution_count": null,
   "id": "498a2f5c",
   "metadata": {},
   "outputs": [],
   "source": [
    "px.line(\n",
    "    education.query(\"STATE in ['CALIFORNIA', 'MASSACHUSETTS']\"),\n",
    "    x=\"YEAR\",\n",
    "    y=\"TOTAL_EXPENDITURE\",\n",
    "    color=\"STATE\",\n",
    "    title=\"Education Spend by State\"\n",
    ").update_layout(\n",
    "    title_font = dict(\n",
    "        color=\"grey\",\n",
    "        size=24\n",
    "    ),\n",
    "    title = {\n",
    "        \"x\":.43,\n",
    "        \"y\":.9,\n",
    "        \"xanchor\":\"center\"\n",
    "    },\n",
    "    legend_title=\"\",\n",
    "    width=750\n",
    ")"
   ]
  },
  {
   "cell_type": "code",
   "execution_count": null,
   "id": "d0db75f6",
   "metadata": {},
   "outputs": [],
   "source": [
    "fig = px.line(\n",
    "    education.query(\"STATE in ['CALIFORNIA', 'MASSACHUSETTS']\"),\n",
    "    x=\"YEAR\",\n",
    "    y=\"TOTAL_EXPENDITURE\",\n",
    "    color=\"STATE\",\n",
    "    title=\"Education Spend by State\"\n",
    ")"
   ]
  },
  {
   "cell_type": "code",
   "execution_count": null,
   "id": "8a6fd72b",
   "metadata": {},
   "outputs": [],
   "source": [
    "fig.update_layout(\n",
    "    title_font = dict(\n",
    "        color=\"grey\",\n",
    "        size=24\n",
    "    ),\n",
    "    title = {\n",
    "        \"x\":.43,\n",
    "        \"y\":.9,\n",
    "        \"xanchor\":\"center\",\n",
    "    },\n",
    "    legend_title=\"\",\n",
    "    width=750\n",
    ")"
   ]
  },
  {
   "cell_type": "code",
   "execution_count": null,
   "id": "45fc71d8",
   "metadata": {},
   "outputs": [],
   "source": [
    "fig.update_traces(\n",
    "    mode=\"lines+markers\",\n",
    "    opacity=.6\n",
    ")"
   ]
  },
  {
   "cell_type": "code",
   "execution_count": null,
   "id": "09ed0dd3",
   "metadata": {},
   "outputs": [],
   "source": [
    "fig.update_xaxes(\n",
    "    title=\"Budget Year\",\n",
    "    showgrid=False,\n",
    "    range=[1991,2017],\n",
    "    dtick=4\n",
    ")\n",
    "\n",
    "fig.update_yaxes(\n",
    "    title=\"Total Expenditure\",\n",
    "    nticks=5\n",
    ")"
   ]
  },
  {
   "cell_type": "code",
   "execution_count": null,
   "id": "efbdaecb",
   "metadata": {},
   "outputs": [],
   "source": [
    "fig.add_annotation(\n",
    "    text=\"State Budget Crisis\",\n",
    "    x=2008,\n",
    "    y=78000000,\n",
    "    arrowhead=2\n",
    ")"
   ]
  },
  {
   "cell_type": "code",
   "execution_count": null,
   "id": "0333516b",
   "metadata": {},
   "outputs": [],
   "source": [
    "import plotly.graph_objects as go\n",
    "\n",
    "ca_mean = education.loc[\n",
    "    education[\"STATE\"]==\"CALIFORNIA\", \n",
    "    \"TOTAL_EXPENDITURE\"\n",
    "].mean()\n",
    "\n",
    "reference_line = go.Scatter(\n",
    "    x=(1992,2016),\n",
    "    y=(ca_mean, ca_mean),\n",
    "    mode=\"lines\",\n",
    "    line={\"color\":\"gray\", \"dash\":\"dash\"},\n",
    "    name=\"CA AVERAGE\"\n",
    ")\n",
    "\n",
    "fig.add_trace(\n",
    "    reference_line\n",
    ")"
   ]
  },
  {
   "cell_type": "code",
   "execution_count": null,
   "id": "06f60556",
   "metadata": {},
   "outputs": [],
   "source": [
    "education2years = df.loc[:, [\"YEAR\", \"STATE\", \"INSTRUCTION_EXPENDITURE\"]]\n",
    "\n",
    "education2years = education2years.query(\"STATE in ['CALIFORNIA', 'IDAHO', 'MASSACHUSETTS', 'NORTH_CAROLINA']\")\n",
    "education2years = education2years.query(\"YEAR in [2009, 2011]\")\n",
    "\n",
    "education2years"
   ]
  },
  {
   "cell_type": "code",
   "execution_count": null,
   "id": "41a37013",
   "metadata": {},
   "outputs": [],
   "source": [
    "education2years"
   ]
  },
  {
   "cell_type": "code",
   "execution_count": null,
   "id": "4081d7a0",
   "metadata": {},
   "outputs": [],
   "source": [
    "px.bar(\n",
    "    education2years,\n",
    "    x=\"YEAR\",\n",
    "    y=\"INSTRUCTION_EXPENDITURE\",\n",
    "    color=\"STATE\"\n",
    ")"
   ]
  },
  {
   "cell_type": "code",
   "execution_count": null,
   "id": "d29c5641",
   "metadata": {},
   "outputs": [],
   "source": [
    "px.bar(\n",
    "    education2years,\n",
    "    x=\"YEAR\",\n",
    "    y=\"INSTRUCTION_EXPENDITURE\",\n",
    "    color=\"STATE\"\n",
    ").update_xaxes(type=\"category\")"
   ]
  },
  {
   "cell_type": "code",
   "execution_count": null,
   "id": "611c6e60",
   "metadata": {},
   "outputs": [],
   "source": [
    "state_revenue = df.loc[df[\"YEAR\"]==2015, [\"STATE\", \"STATE_REVENUE\"]]"
   ]
  },
  {
   "cell_type": "code",
   "execution_count": null,
   "id": "969b1181",
   "metadata": {},
   "outputs": [],
   "source": [
    "px.choropleth(\n",
    "    state_revenue,\n",
    "    locations=\"STATE\",\n",
    "    color=\"STATE_REVENUE\",\n",
    "    locationmode=\"USA-states\",\n",
    "    scope=\"usa\"\n",
    ")"
   ]
  },
  {
   "cell_type": "code",
   "execution_count": null,
   "id": "76508633",
   "metadata": {},
   "outputs": [],
   "source": [
    "import pandas as pd\n",
    "\n",
    "df = pd.read_csv(\"European_Ski_Resorts.csv\")\n",
    "\n",
    "df.head()"
   ]
  },
  {
   "cell_type": "code",
   "execution_count": null,
   "id": "dc95ae84",
   "metadata": {},
   "outputs": [],
   "source": [
    "import plotly.express as px\n",
    "\n",
    "px.choropleth(\n",
    "    df,\n",
    "    locations=\"Country\",\n",
    "    locationmode=\"country names\",\n",
    "    color=\"HighestPoint\",\n",
    "    scope=\"europe\"\n",
    ")"
   ]
  },
  {
   "cell_type": "code",
   "execution_count": 11,
   "id": "c4aa1901",
   "metadata": {},
   "outputs": [],
   "source": [
    "nyc = pd.read_csv(\"NYC_Collisions.csv\")"
   ]
  },
  {
   "cell_type": "code",
   "execution_count": 12,
   "id": "6666b5a2",
   "metadata": {},
   "outputs": [
    {
     "data": {
      "text/html": [
       "<div>\n",
       "<style scoped>\n",
       "    .dataframe tbody tr th:only-of-type {\n",
       "        vertical-align: middle;\n",
       "    }\n",
       "\n",
       "    .dataframe tbody tr th {\n",
       "        vertical-align: top;\n",
       "    }\n",
       "\n",
       "    .dataframe thead th {\n",
       "        text-align: right;\n",
       "    }\n",
       "</style>\n",
       "<table border=\"1\" class=\"dataframe\">\n",
       "  <thead>\n",
       "    <tr style=\"text-align: right;\">\n",
       "      <th></th>\n",
       "      <th>COLLISION_ID</th>\n",
       "      <th>ACCIDENT_DATE</th>\n",
       "      <th>ACCIDENT_TIME</th>\n",
       "      <th>BOROUGH</th>\n",
       "      <th>ZIP CODE</th>\n",
       "      <th>LATITUDE</th>\n",
       "      <th>LONGITUDE</th>\n",
       "      <th>STREET NAME</th>\n",
       "      <th>CROSS STREET NAME</th>\n",
       "      <th>FULL ADDRESS</th>\n",
       "      <th>VEHICLE TYPE</th>\n",
       "      <th>CONTRIBUTING FACTOR</th>\n",
       "      <th>PERSONS INJURED</th>\n",
       "      <th>PERSONS KILLED</th>\n",
       "      <th>PEDESTRIANS INJURED</th>\n",
       "      <th>PEDESTRIANS KILLED</th>\n",
       "      <th>CYCLIST INJURED</th>\n",
       "      <th>CYCLIST KILLED</th>\n",
       "      <th>MOTORIST INJURED</th>\n",
       "      <th>MOTORIST KILLED</th>\n",
       "    </tr>\n",
       "  </thead>\n",
       "  <tbody>\n",
       "    <tr>\n",
       "      <th>0</th>\n",
       "      <td>4380785</td>\n",
       "      <td>2021-01-01</td>\n",
       "      <td>00:00:00</td>\n",
       "      <td>QUEENS</td>\n",
       "      <td>11434.0</td>\n",
       "      <td>40.664536</td>\n",
       "      <td>-73.77314</td>\n",
       "      <td>NaN</td>\n",
       "      <td>NaN</td>\n",
       "      <td>145-8     175 STREET</td>\n",
       "      <td>Station Wagon/Sport Utility Vehicle</td>\n",
       "      <td>Unspecified</td>\n",
       "      <td>0.0</td>\n",
       "      <td>0</td>\n",
       "      <td>0</td>\n",
       "      <td>0</td>\n",
       "      <td>0</td>\n",
       "      <td>0</td>\n",
       "      <td>0</td>\n",
       "      <td>0</td>\n",
       "    </tr>\n",
       "    <tr>\n",
       "      <th>1</th>\n",
       "      <td>4380974</td>\n",
       "      <td>2021-01-01</td>\n",
       "      <td>00:00:00</td>\n",
       "      <td>QUEENS</td>\n",
       "      <td>11355.0</td>\n",
       "      <td>40.754375</td>\n",
       "      <td>-73.82340</td>\n",
       "      <td>BEECH AVENUE</td>\n",
       "      <td>KISSENA BOULEVARD</td>\n",
       "      <td>NaN</td>\n",
       "      <td>Sedan</td>\n",
       "      <td>Unspecified</td>\n",
       "      <td>0.0</td>\n",
       "      <td>0</td>\n",
       "      <td>0</td>\n",
       "      <td>0</td>\n",
       "      <td>0</td>\n",
       "      <td>0</td>\n",
       "      <td>0</td>\n",
       "      <td>0</td>\n",
       "    </tr>\n",
       "    <tr>\n",
       "      <th>2</th>\n",
       "      <td>4381080</td>\n",
       "      <td>2021-01-01</td>\n",
       "      <td>00:00:00</td>\n",
       "      <td>BROOKLYN</td>\n",
       "      <td>11203.0</td>\n",
       "      <td>40.658295</td>\n",
       "      <td>-73.93109</td>\n",
       "      <td>UTICA AVENUE</td>\n",
       "      <td>WINTHROP STREET</td>\n",
       "      <td>NaN</td>\n",
       "      <td>Station Wagon/Sport Utility Vehicle</td>\n",
       "      <td>Driver Inattention/Distraction</td>\n",
       "      <td>1.0</td>\n",
       "      <td>0</td>\n",
       "      <td>0</td>\n",
       "      <td>0</td>\n",
       "      <td>0</td>\n",
       "      <td>0</td>\n",
       "      <td>1</td>\n",
       "      <td>0</td>\n",
       "    </tr>\n",
       "    <tr>\n",
       "      <th>3</th>\n",
       "      <td>4381095</td>\n",
       "      <td>2021-01-01</td>\n",
       "      <td>00:00:00</td>\n",
       "      <td>BROOKLYN</td>\n",
       "      <td>11212.0</td>\n",
       "      <td>40.661873</td>\n",
       "      <td>-73.92878</td>\n",
       "      <td>NaN</td>\n",
       "      <td>NaN</td>\n",
       "      <td>108       EAST 91 STREET</td>\n",
       "      <td>Sedan</td>\n",
       "      <td>Unspecified</td>\n",
       "      <td>0.0</td>\n",
       "      <td>0</td>\n",
       "      <td>0</td>\n",
       "      <td>0</td>\n",
       "      <td>0</td>\n",
       "      <td>0</td>\n",
       "      <td>0</td>\n",
       "      <td>0</td>\n",
       "    </tr>\n",
       "    <tr>\n",
       "      <th>4</th>\n",
       "      <td>4381962</td>\n",
       "      <td>2021-01-01</td>\n",
       "      <td>00:00:00</td>\n",
       "      <td>NaN</td>\n",
       "      <td>NaN</td>\n",
       "      <td>40.834198</td>\n",
       "      <td>-73.85169</td>\n",
       "      <td>WESTCHESTER AVENUE</td>\n",
       "      <td>NaN</td>\n",
       "      <td>NaN</td>\n",
       "      <td>Sedan</td>\n",
       "      <td>Unspecified</td>\n",
       "      <td>1.0</td>\n",
       "      <td>0</td>\n",
       "      <td>1</td>\n",
       "      <td>0</td>\n",
       "      <td>0</td>\n",
       "      <td>0</td>\n",
       "      <td>0</td>\n",
       "      <td>0</td>\n",
       "    </tr>\n",
       "  </tbody>\n",
       "</table>\n",
       "</div>"
      ],
      "text/plain": [
       "   COLLISION_ID ACCIDENT_DATE ACCIDENT_TIME   BOROUGH  ZIP CODE   LATITUDE  \\\n",
       "0       4380785    2021-01-01      00:00:00    QUEENS   11434.0  40.664536   \n",
       "1       4380974    2021-01-01      00:00:00    QUEENS   11355.0  40.754375   \n",
       "2       4381080    2021-01-01      00:00:00  BROOKLYN   11203.0  40.658295   \n",
       "3       4381095    2021-01-01      00:00:00  BROOKLYN   11212.0  40.661873   \n",
       "4       4381962    2021-01-01      00:00:00       NaN       NaN  40.834198   \n",
       "\n",
       "   LONGITUDE         STREET NAME  CROSS STREET NAME              FULL ADDRESS  \\\n",
       "0  -73.77314                 NaN                NaN      145-8     175 STREET   \n",
       "1  -73.82340        BEECH AVENUE  KISSENA BOULEVARD                       NaN   \n",
       "2  -73.93109        UTICA AVENUE    WINTHROP STREET                       NaN   \n",
       "3  -73.92878                 NaN                NaN  108       EAST 91 STREET   \n",
       "4  -73.85169  WESTCHESTER AVENUE                NaN                       NaN   \n",
       "\n",
       "                          VEHICLE TYPE             CONTRIBUTING FACTOR  \\\n",
       "0  Station Wagon/Sport Utility Vehicle                     Unspecified   \n",
       "1                                Sedan                     Unspecified   \n",
       "2  Station Wagon/Sport Utility Vehicle  Driver Inattention/Distraction   \n",
       "3                                Sedan                     Unspecified   \n",
       "4                                Sedan                     Unspecified   \n",
       "\n",
       "   PERSONS INJURED  PERSONS KILLED  PEDESTRIANS INJURED  PEDESTRIANS KILLED  \\\n",
       "0              0.0               0                    0                   0   \n",
       "1              0.0               0                    0                   0   \n",
       "2              1.0               0                    0                   0   \n",
       "3              0.0               0                    0                   0   \n",
       "4              1.0               0                    1                   0   \n",
       "\n",
       "   CYCLIST INJURED  CYCLIST KILLED  MOTORIST INJURED  MOTORIST KILLED  \n",
       "0                0               0                 0                0  \n",
       "1                0               0                 0                0  \n",
       "2                0               0                 1                0  \n",
       "3                0               0                 0                0  \n",
       "4                0               0                 0                0  "
      ]
     },
     "execution_count": 12,
     "metadata": {},
     "output_type": "execute_result"
    }
   ],
   "source": [
    "nyc.head()"
   ]
  },
  {
   "cell_type": "code",
   "execution_count": 13,
   "id": "41c60c79",
   "metadata": {},
   "outputs": [
    {
     "ename": "ValueError",
     "evalue": "Value of 'z' is not the name of a column in 'data_frame'. Expected one of ['COLLISION_ID', 'ACCIDENT_DATE', 'ACCIDENT_TIME', 'BOROUGH', 'ZIP CODE', 'LATITUDE', 'LONGITUDE', 'STREET NAME', 'CROSS STREET NAME', 'FULL ADDRESS', 'VEHICLE TYPE', 'CONTRIBUTING FACTOR', 'PERSONS INJURED', 'PERSONS KILLED', 'PEDESTRIANS INJURED', 'PEDESTRIANS KILLED', 'CYCLIST INJURED', 'CYCLIST KILLED', 'MOTORIST INJURED', 'MOTORIST KILLED'] but received: COLLISIONS",
     "output_type": "error",
     "traceback": [
      "\u001b[0;31m---------------------------------------------------------------------------\u001b[0m",
      "\u001b[0;31mValueError\u001b[0m                                Traceback (most recent call last)",
      "\u001b[0;32m/var/folders/f8/075hbnj13wb0f9yzh9k4nyz00000gn/T/ipykernel_38152/1720744513.py\u001b[0m in \u001b[0;36m<module>\u001b[0;34m\u001b[0m\n\u001b[0;32m----> 1\u001b[0;31m px.density_mapbox(\n\u001b[0m\u001b[1;32m      2\u001b[0m     \u001b[0mnyc\u001b[0m\u001b[0;34m,\u001b[0m\u001b[0;34m\u001b[0m\u001b[0;34m\u001b[0m\u001b[0m\n\u001b[1;32m      3\u001b[0m     \u001b[0mlat\u001b[0m\u001b[0;34m=\u001b[0m\u001b[0;34m\"LATITUDE\"\u001b[0m\u001b[0;34m,\u001b[0m\u001b[0;34m\u001b[0m\u001b[0;34m\u001b[0m\u001b[0m\n\u001b[1;32m      4\u001b[0m     \u001b[0mlon\u001b[0m\u001b[0;34m=\u001b[0m\u001b[0;34m\"LONGITUDE\"\u001b[0m\u001b[0;34m,\u001b[0m\u001b[0;34m\u001b[0m\u001b[0;34m\u001b[0m\u001b[0m\n\u001b[1;32m      5\u001b[0m     \u001b[0mz\u001b[0m\u001b[0;34m=\u001b[0m\u001b[0;34m\"COLLISIONS\"\u001b[0m\u001b[0;34m,\u001b[0m\u001b[0;34m\u001b[0m\u001b[0;34m\u001b[0m\u001b[0m\n",
      "\u001b[0;32m~/opt/anaconda3/lib/python3.9/site-packages/plotly/express/_chart_types.py\u001b[0m in \u001b[0;36mdensity_mapbox\u001b[0;34m(data_frame, lat, lon, z, hover_name, hover_data, custom_data, animation_frame, animation_group, category_orders, labels, color_continuous_scale, range_color, color_continuous_midpoint, opacity, zoom, center, mapbox_style, radius, title, template, width, height)\u001b[0m\n\u001b[1;32m   1317\u001b[0m     \u001b[0mthe\u001b[0m \u001b[0mcolor\u001b[0m \u001b[0mof\u001b[0m \u001b[0mthe\u001b[0m \u001b[0mregion\u001b[0m \u001b[0maround\u001b[0m \u001b[0mthe\u001b[0m \u001b[0mcorresponding\u001b[0m \u001b[0mpoint\u001b[0m \u001b[0mon\u001b[0m \u001b[0mthe\u001b[0m \u001b[0mmap\u001b[0m\u001b[0;34m\u001b[0m\u001b[0;34m\u001b[0m\u001b[0m\n\u001b[1;32m   1318\u001b[0m     \"\"\"\n\u001b[0;32m-> 1319\u001b[0;31m     return make_figure(\n\u001b[0m\u001b[1;32m   1320\u001b[0m         \u001b[0margs\u001b[0m\u001b[0;34m=\u001b[0m\u001b[0mlocals\u001b[0m\u001b[0;34m(\u001b[0m\u001b[0;34m)\u001b[0m\u001b[0;34m,\u001b[0m \u001b[0mconstructor\u001b[0m\u001b[0;34m=\u001b[0m\u001b[0mgo\u001b[0m\u001b[0;34m.\u001b[0m\u001b[0mDensitymapbox\u001b[0m\u001b[0;34m,\u001b[0m \u001b[0mtrace_patch\u001b[0m\u001b[0;34m=\u001b[0m\u001b[0mdict\u001b[0m\u001b[0;34m(\u001b[0m\u001b[0mradius\u001b[0m\u001b[0;34m=\u001b[0m\u001b[0mradius\u001b[0m\u001b[0;34m)\u001b[0m\u001b[0;34m\u001b[0m\u001b[0;34m\u001b[0m\u001b[0m\n\u001b[1;32m   1321\u001b[0m     )\n",
      "\u001b[0;32m~/opt/anaconda3/lib/python3.9/site-packages/plotly/express/_core.py\u001b[0m in \u001b[0;36mmake_figure\u001b[0;34m(args, constructor, trace_patch, layout_patch)\u001b[0m\n\u001b[1;32m   1988\u001b[0m     \u001b[0mapply_default_cascade\u001b[0m\u001b[0;34m(\u001b[0m\u001b[0margs\u001b[0m\u001b[0;34m)\u001b[0m\u001b[0;34m\u001b[0m\u001b[0;34m\u001b[0m\u001b[0m\n\u001b[1;32m   1989\u001b[0m \u001b[0;34m\u001b[0m\u001b[0m\n\u001b[0;32m-> 1990\u001b[0;31m     \u001b[0margs\u001b[0m \u001b[0;34m=\u001b[0m \u001b[0mbuild_dataframe\u001b[0m\u001b[0;34m(\u001b[0m\u001b[0margs\u001b[0m\u001b[0;34m,\u001b[0m \u001b[0mconstructor\u001b[0m\u001b[0;34m)\u001b[0m\u001b[0;34m\u001b[0m\u001b[0;34m\u001b[0m\u001b[0m\n\u001b[0m\u001b[1;32m   1991\u001b[0m     \u001b[0;32mif\u001b[0m \u001b[0mconstructor\u001b[0m \u001b[0;32min\u001b[0m \u001b[0;34m[\u001b[0m\u001b[0mgo\u001b[0m\u001b[0;34m.\u001b[0m\u001b[0mTreemap\u001b[0m\u001b[0;34m,\u001b[0m \u001b[0mgo\u001b[0m\u001b[0;34m.\u001b[0m\u001b[0mSunburst\u001b[0m\u001b[0;34m,\u001b[0m \u001b[0mgo\u001b[0m\u001b[0;34m.\u001b[0m\u001b[0mIcicle\u001b[0m\u001b[0;34m]\u001b[0m \u001b[0;32mand\u001b[0m \u001b[0margs\u001b[0m\u001b[0;34m[\u001b[0m\u001b[0;34m\"path\"\u001b[0m\u001b[0;34m]\u001b[0m \u001b[0;32mis\u001b[0m \u001b[0;32mnot\u001b[0m \u001b[0;32mNone\u001b[0m\u001b[0;34m:\u001b[0m\u001b[0;34m\u001b[0m\u001b[0;34m\u001b[0m\u001b[0m\n\u001b[1;32m   1992\u001b[0m         \u001b[0margs\u001b[0m \u001b[0;34m=\u001b[0m \u001b[0mprocess_dataframe_hierarchy\u001b[0m\u001b[0;34m(\u001b[0m\u001b[0margs\u001b[0m\u001b[0;34m)\u001b[0m\u001b[0;34m\u001b[0m\u001b[0;34m\u001b[0m\u001b[0m\n",
      "\u001b[0;32m~/opt/anaconda3/lib/python3.9/site-packages/plotly/express/_core.py\u001b[0m in \u001b[0;36mbuild_dataframe\u001b[0;34m(args, constructor)\u001b[0m\n\u001b[1;32m   1403\u001b[0m     \u001b[0;31m# now that things have been prepped, we do the systematic rewriting of `args`\u001b[0m\u001b[0;34m\u001b[0m\u001b[0;34m\u001b[0m\u001b[0m\n\u001b[1;32m   1404\u001b[0m \u001b[0;34m\u001b[0m\u001b[0m\n\u001b[0;32m-> 1405\u001b[0;31m     df_output, wide_id_vars = process_args_into_dataframe(\n\u001b[0m\u001b[1;32m   1406\u001b[0m         \u001b[0margs\u001b[0m\u001b[0;34m,\u001b[0m \u001b[0mwide_mode\u001b[0m\u001b[0;34m,\u001b[0m \u001b[0mvar_name\u001b[0m\u001b[0;34m,\u001b[0m \u001b[0mvalue_name\u001b[0m\u001b[0;34m\u001b[0m\u001b[0;34m\u001b[0m\u001b[0m\n\u001b[1;32m   1407\u001b[0m     )\n",
      "\u001b[0;32m~/opt/anaconda3/lib/python3.9/site-packages/plotly/express/_core.py\u001b[0m in \u001b[0;36mprocess_args_into_dataframe\u001b[0;34m(args, wide_mode, var_name, value_name)\u001b[0m\n\u001b[1;32m   1205\u001b[0m                         \u001b[0;32mif\u001b[0m \u001b[0margument\u001b[0m \u001b[0;34m==\u001b[0m \u001b[0;34m\"index\"\u001b[0m\u001b[0;34m:\u001b[0m\u001b[0;34m\u001b[0m\u001b[0;34m\u001b[0m\u001b[0m\n\u001b[1;32m   1206\u001b[0m                             \u001b[0merr_msg\u001b[0m \u001b[0;34m+=\u001b[0m \u001b[0;34m\"\\n To use the index, pass it in directly as `df.index`.\"\u001b[0m\u001b[0;34m\u001b[0m\u001b[0;34m\u001b[0m\u001b[0m\n\u001b[0;32m-> 1207\u001b[0;31m                         \u001b[0;32mraise\u001b[0m \u001b[0mValueError\u001b[0m\u001b[0;34m(\u001b[0m\u001b[0merr_msg\u001b[0m\u001b[0;34m)\u001b[0m\u001b[0;34m\u001b[0m\u001b[0;34m\u001b[0m\u001b[0m\n\u001b[0m\u001b[1;32m   1208\u001b[0m                 \u001b[0;32melif\u001b[0m \u001b[0mlength\u001b[0m \u001b[0;32mand\u001b[0m \u001b[0mlen\u001b[0m\u001b[0;34m(\u001b[0m\u001b[0mdf_input\u001b[0m\u001b[0;34m[\u001b[0m\u001b[0margument\u001b[0m\u001b[0;34m]\u001b[0m\u001b[0;34m)\u001b[0m \u001b[0;34m!=\u001b[0m \u001b[0mlength\u001b[0m\u001b[0;34m:\u001b[0m\u001b[0;34m\u001b[0m\u001b[0;34m\u001b[0m\u001b[0m\n\u001b[1;32m   1209\u001b[0m                     raise ValueError(\n",
      "\u001b[0;31mValueError\u001b[0m: Value of 'z' is not the name of a column in 'data_frame'. Expected one of ['COLLISION_ID', 'ACCIDENT_DATE', 'ACCIDENT_TIME', 'BOROUGH', 'ZIP CODE', 'LATITUDE', 'LONGITUDE', 'STREET NAME', 'CROSS STREET NAME', 'FULL ADDRESS', 'VEHICLE TYPE', 'CONTRIBUTING FACTOR', 'PERSONS INJURED', 'PERSONS KILLED', 'PEDESTRIANS INJURED', 'PEDESTRIANS KILLED', 'CYCLIST INJURED', 'CYCLIST KILLED', 'MOTORIST INJURED', 'MOTORIST KILLED'] but received: COLLISIONS"
     ]
    }
   ],
   "source": [
    "px.density_mapbox(\n",
    "    nyc,\n",
    "    lat=\"LATITUDE\",\n",
    "    lon=\"LONGITUDE\",\n",
    "    z=\"COLLISIONS\",\n",
    "    radius=10,\n",
    "    mapbox_style=\"stamen-terrain\",\n",
    "    title=\"Collision Hotspots in Manhattan\"\n",
    ")"
   ]
  },
  {
   "cell_type": "code",
   "execution_count": null,
   "id": "24fc1aa1",
   "metadata": {
    "scrolled": false
   },
   "outputs": [],
   "source": [
    "px.scatter_mapbox(\n",
    "    nyc.loc[:15,:],\n",
    "    lat=\"LATITUDE\",\n",
    "    lon=\"LONGITUDE\",\n",
    "    size=\"COLLISIONS\",\n",
    "    mapbox_style=\"open-street-map\",\n",
    "    title=\"Top 15 Collision Spots in Manhattan\"\n",
    ")"
   ]
  },
  {
   "cell_type": "code",
   "execution_count": 2,
   "id": "f57d93c3",
   "metadata": {},
   "outputs": [],
   "source": [
    "education = pd.read_csv(\"states_all.csv\")"
   ]
  },
  {
   "cell_type": "code",
   "execution_count": 3,
   "id": "1e0d830e",
   "metadata": {},
   "outputs": [
    {
     "data": {
      "text/html": [
       "<div>\n",
       "<style scoped>\n",
       "    .dataframe tbody tr th:only-of-type {\n",
       "        vertical-align: middle;\n",
       "    }\n",
       "\n",
       "    .dataframe tbody tr th {\n",
       "        vertical-align: top;\n",
       "    }\n",
       "\n",
       "    .dataframe thead th {\n",
       "        text-align: right;\n",
       "    }\n",
       "</style>\n",
       "<table border=\"1\" class=\"dataframe\">\n",
       "  <thead>\n",
       "    <tr style=\"text-align: right;\">\n",
       "      <th></th>\n",
       "      <th>PRIMARY_KEY</th>\n",
       "      <th>STATE</th>\n",
       "      <th>YEAR</th>\n",
       "      <th>ENROLL</th>\n",
       "      <th>TOTAL_REVENUE</th>\n",
       "      <th>FEDERAL_REVENUE</th>\n",
       "      <th>STATE_REVENUE</th>\n",
       "      <th>LOCAL_REVENUE</th>\n",
       "      <th>TOTAL_EXPENDITURE</th>\n",
       "      <th>INSTRUCTION_EXPENDITURE</th>\n",
       "      <th>...</th>\n",
       "      <th>GRADES_8_G</th>\n",
       "      <th>GRADES_12_G</th>\n",
       "      <th>GRADES_1_8_G</th>\n",
       "      <th>GRADES_9_12_G</th>\n",
       "      <th>GRADES_ALL_G</th>\n",
       "      <th>AVG_MATH_4_SCORE</th>\n",
       "      <th>AVG_MATH_8_SCORE</th>\n",
       "      <th>AVG_READING_4_SCORE</th>\n",
       "      <th>AVG_READING_8_SCORE</th>\n",
       "      <th>expenditure_per_student</th>\n",
       "    </tr>\n",
       "  </thead>\n",
       "  <tbody>\n",
       "    <tr>\n",
       "      <th>0</th>\n",
       "      <td>1992_ALABAMA</td>\n",
       "      <td>ALABAMA</td>\n",
       "      <td>1992</td>\n",
       "      <td>NaN</td>\n",
       "      <td>2678885.0</td>\n",
       "      <td>304177.0</td>\n",
       "      <td>1659028.0</td>\n",
       "      <td>715680.0</td>\n",
       "      <td>2653798.0</td>\n",
       "      <td>1481703.0</td>\n",
       "      <td>...</td>\n",
       "      <td>58025.0</td>\n",
       "      <td>41167.0</td>\n",
       "      <td>NaN</td>\n",
       "      <td>NaN</td>\n",
       "      <td>731634.0</td>\n",
       "      <td>208.0</td>\n",
       "      <td>252.0</td>\n",
       "      <td>207.0</td>\n",
       "      <td>NaN</td>\n",
       "      <td>3.627221</td>\n",
       "    </tr>\n",
       "    <tr>\n",
       "      <th>1</th>\n",
       "      <td>1992_ALASKA</td>\n",
       "      <td>ALASKA</td>\n",
       "      <td>1992</td>\n",
       "      <td>NaN</td>\n",
       "      <td>1049591.0</td>\n",
       "      <td>106780.0</td>\n",
       "      <td>720711.0</td>\n",
       "      <td>222100.0</td>\n",
       "      <td>972488.0</td>\n",
       "      <td>498362.0</td>\n",
       "      <td>...</td>\n",
       "      <td>8789.0</td>\n",
       "      <td>6714.0</td>\n",
       "      <td>NaN</td>\n",
       "      <td>NaN</td>\n",
       "      <td>122487.0</td>\n",
       "      <td>NaN</td>\n",
       "      <td>NaN</td>\n",
       "      <td>NaN</td>\n",
       "      <td>NaN</td>\n",
       "      <td>7.939520</td>\n",
       "    </tr>\n",
       "    <tr>\n",
       "      <th>2</th>\n",
       "      <td>1992_ARIZONA</td>\n",
       "      <td>ARIZONA</td>\n",
       "      <td>1992</td>\n",
       "      <td>NaN</td>\n",
       "      <td>3258079.0</td>\n",
       "      <td>297888.0</td>\n",
       "      <td>1369815.0</td>\n",
       "      <td>1590376.0</td>\n",
       "      <td>3401580.0</td>\n",
       "      <td>1435908.0</td>\n",
       "      <td>...</td>\n",
       "      <td>49081.0</td>\n",
       "      <td>37410.0</td>\n",
       "      <td>NaN</td>\n",
       "      <td>NaN</td>\n",
       "      <td>673477.0</td>\n",
       "      <td>215.0</td>\n",
       "      <td>265.0</td>\n",
       "      <td>209.0</td>\n",
       "      <td>NaN</td>\n",
       "      <td>5.050774</td>\n",
       "    </tr>\n",
       "    <tr>\n",
       "      <th>3</th>\n",
       "      <td>1992_ARKANSAS</td>\n",
       "      <td>ARKANSAS</td>\n",
       "      <td>1992</td>\n",
       "      <td>NaN</td>\n",
       "      <td>1711959.0</td>\n",
       "      <td>178571.0</td>\n",
       "      <td>958785.0</td>\n",
       "      <td>574603.0</td>\n",
       "      <td>1743022.0</td>\n",
       "      <td>964323.0</td>\n",
       "      <td>...</td>\n",
       "      <td>36011.0</td>\n",
       "      <td>27651.0</td>\n",
       "      <td>NaN</td>\n",
       "      <td>NaN</td>\n",
       "      <td>441490.0</td>\n",
       "      <td>210.0</td>\n",
       "      <td>256.0</td>\n",
       "      <td>211.0</td>\n",
       "      <td>NaN</td>\n",
       "      <td>3.948044</td>\n",
       "    </tr>\n",
       "    <tr>\n",
       "      <th>4</th>\n",
       "      <td>1992_CALIFORNIA</td>\n",
       "      <td>CALIFORNIA</td>\n",
       "      <td>1992</td>\n",
       "      <td>NaN</td>\n",
       "      <td>26260025.0</td>\n",
       "      <td>2072470.0</td>\n",
       "      <td>16546514.0</td>\n",
       "      <td>7641041.0</td>\n",
       "      <td>27138832.0</td>\n",
       "      <td>14358922.0</td>\n",
       "      <td>...</td>\n",
       "      <td>363296.0</td>\n",
       "      <td>270675.0</td>\n",
       "      <td>NaN</td>\n",
       "      <td>NaN</td>\n",
       "      <td>5254844.0</td>\n",
       "      <td>208.0</td>\n",
       "      <td>261.0</td>\n",
       "      <td>202.0</td>\n",
       "      <td>NaN</td>\n",
       "      <td>5.164536</td>\n",
       "    </tr>\n",
       "  </tbody>\n",
       "</table>\n",
       "<p>5 rows × 26 columns</p>\n",
       "</div>"
      ],
      "text/plain": [
       "       PRIMARY_KEY       STATE  YEAR  ENROLL  TOTAL_REVENUE  FEDERAL_REVENUE  \\\n",
       "0     1992_ALABAMA     ALABAMA  1992     NaN      2678885.0         304177.0   \n",
       "1      1992_ALASKA      ALASKA  1992     NaN      1049591.0         106780.0   \n",
       "2     1992_ARIZONA     ARIZONA  1992     NaN      3258079.0         297888.0   \n",
       "3    1992_ARKANSAS    ARKANSAS  1992     NaN      1711959.0         178571.0   \n",
       "4  1992_CALIFORNIA  CALIFORNIA  1992     NaN     26260025.0        2072470.0   \n",
       "\n",
       "   STATE_REVENUE  LOCAL_REVENUE  TOTAL_EXPENDITURE  INSTRUCTION_EXPENDITURE  \\\n",
       "0      1659028.0       715680.0          2653798.0                1481703.0   \n",
       "1       720711.0       222100.0           972488.0                 498362.0   \n",
       "2      1369815.0      1590376.0          3401580.0                1435908.0   \n",
       "3       958785.0       574603.0          1743022.0                 964323.0   \n",
       "4     16546514.0      7641041.0         27138832.0               14358922.0   \n",
       "\n",
       "   ...  GRADES_8_G  GRADES_12_G  GRADES_1_8_G  GRADES_9_12_G  GRADES_ALL_G  \\\n",
       "0  ...     58025.0      41167.0           NaN            NaN      731634.0   \n",
       "1  ...      8789.0       6714.0           NaN            NaN      122487.0   \n",
       "2  ...     49081.0      37410.0           NaN            NaN      673477.0   \n",
       "3  ...     36011.0      27651.0           NaN            NaN      441490.0   \n",
       "4  ...    363296.0     270675.0           NaN            NaN     5254844.0   \n",
       "\n",
       "   AVG_MATH_4_SCORE  AVG_MATH_8_SCORE  AVG_READING_4_SCORE  \\\n",
       "0             208.0             252.0                207.0   \n",
       "1               NaN               NaN                  NaN   \n",
       "2             215.0             265.0                209.0   \n",
       "3             210.0             256.0                211.0   \n",
       "4             208.0             261.0                202.0   \n",
       "\n",
       "   AVG_READING_8_SCORE  expenditure_per_student  \n",
       "0                  NaN                 3.627221  \n",
       "1                  NaN                 7.939520  \n",
       "2                  NaN                 5.050774  \n",
       "3                  NaN                 3.948044  \n",
       "4                  NaN                 5.164536  \n",
       "\n",
       "[5 rows x 26 columns]"
      ]
     },
     "execution_count": 3,
     "metadata": {},
     "output_type": "execute_result"
    }
   ],
   "source": [
    "education[\"expenditure_per_student\"] = education[\"TOTAL_EXPENDITURE\"] / education[\"GRADES_ALL_G\"]\n",
    "\n",
    "education.head()"
   ]
  },
  {
   "cell_type": "code",
   "execution_count": 6,
   "id": "334a8baf",
   "metadata": {},
   "outputs": [
    {
     "data": {
      "text/html": [
       "\n",
       "        <iframe\n",
       "            width=\"70%\"\n",
       "            height=\"650\"\n",
       "            src=\"http://127.0.0.1:8050/\"\n",
       "            frameborder=\"0\"\n",
       "            allowfullscreen\n",
       "            \n",
       "        ></iframe>\n",
       "        "
      ],
      "text/plain": [
       "<IPython.lib.display.IFrame at 0x7fc10b91df10>"
      ]
     },
     "metadata": {},
     "output_type": "display_data"
    }
   ],
   "source": [
    "app = JupyterDash(__name__)\n",
    "\n",
    "app.layout = html.Div([\n",
    "    dcc.Dropdown(\n",
    "        id=\"X Column Picker\",\n",
    "        options=list(\n",
    "            education.select_dtypes(include=\"number\").columns\n",
    "        ),\n",
    "        value=\"expenditure_per_student\"\n",
    "    ),\n",
    "    dcc.Graph(id=\"Graph\")\n",
    "])\n",
    "\n",
    "@app.callback(\n",
    "    Output(\"Graph\", \"figure\"), \n",
    "    Input(\"X Column Picker\", \"value\")\n",
    ")\n",
    "def plot_rev_scatter(x):\n",
    "    if not x:\n",
    "        raise PreventUpdate\n",
    "    fig = px.scatter(\n",
    "        education,\n",
    "        x=x,\n",
    "        y=\"AVG_MATH_8_SCORE\",\n",
    "        trendline=\"ols\",\n",
    "        title=f\"Relationship between {x} & AVG_MATH_8_SCORE\" \n",
    "    )\n",
    "    return fig\n",
    "\n",
    "if __name__ == \"__main__\":\n",
    "    app.run_server(mode=\"inline\", width=\"70%\")"
   ]
  },
  {
   "cell_type": "code",
   "execution_count": 7,
   "id": "7d937c01",
   "metadata": {},
   "outputs": [
    {
     "data": {
      "text/html": [
       "\n",
       "        <iframe\n",
       "            width=\"100%\"\n",
       "            height=\"650\"\n",
       "            src=\"http://127.0.0.1:8050/\"\n",
       "            frameborder=\"0\"\n",
       "            allowfullscreen\n",
       "            \n",
       "        ></iframe>\n",
       "        "
      ],
      "text/plain": [
       "<IPython.lib.display.IFrame at 0x7fc10b687340>"
      ]
     },
     "metadata": {},
     "output_type": "display_data"
    }
   ],
   "source": [
    "app = JupyterDash(__name__)\n",
    "\n",
    "app.layout = html.Div([\n",
    "    dcc.Dropdown(\n",
    "        id=\"filter\",\n",
    "        options=education[\"STATE\"].unique(),\n",
    "        value=[\"CALIFORNIA\", \"OREGON\"],\n",
    "        multi=True\n",
    "    ),\n",
    "    dcc.Graph(id=\"graph\")\n",
    "])\n",
    "\n",
    "@app.callback(\n",
    "    Output(\"graph\", \"figure\"), \n",
    "    Input(\"filter\", \"value\")\n",
    ")\n",
    "def plot_rev_line(state):\n",
    "    fig = px.line(\n",
    "        education.query(\"STATE in @state\"),\n",
    "        x=\"YEAR\",\n",
    "        y=\"TOTAL_EXPENDITURE\",\n",
    "        color=\"STATE\",\n",
    "        title=\"Expenditure Over Time\" \n",
    "    )\n",
    "    return fig\n",
    "\n",
    "if __name__ == \"__main__\":\n",
    "    app.run_server(mode=\"inline\")"
   ]
  },
  {
   "cell_type": "code",
   "execution_count": 4,
   "id": "b2310a99",
   "metadata": {},
   "outputs": [
    {
     "data": {
      "text/html": [
       "\n",
       "        <iframe\n",
       "            width=\"85%\"\n",
       "            height=\"650\"\n",
       "            src=\"http://127.0.0.1:8050/\"\n",
       "            frameborder=\"0\"\n",
       "            allowfullscreen\n",
       "            \n",
       "        ></iframe>\n",
       "        "
      ],
      "text/plain": [
       "<IPython.lib.display.IFrame at 0x7fc1084fb250>"
      ]
     },
     "metadata": {},
     "output_type": "display_data"
    }
   ],
   "source": [
    "app = JupyterDash(__name__)\n",
    "\n",
    "app.layout = html.Div([\n",
    "    dcc.Checklist(\n",
    "        id=\"scores\",\n",
    "        options=[\n",
    "            \"AVG_MATH_4_SCORE\", \n",
    "            \"AVG_MATH_8_SCORE\",\n",
    "            \"AVG_READING_4_SCORE\",\n",
    "            \"AVG_READING_8_SCORE\"\n",
    "        ],\n",
    "        value=[\"AVG_MATH_4_SCORE\"]\n",
    "    ),\n",
    "    dcc.Graph(id=\"graph\")\n",
    "])\n",
    "\n",
    "@app.callback(\n",
    "    Output(\"graph\", \"figure\"), \n",
    "    Input(\"scores\", \"value\")\n",
    ")\n",
    "def plot_rev_hist(scores):\n",
    "    fig = px.histogram(\n",
    "        education,\n",
    "        x=scores,\n",
    "        barmode=\"overlay\",\n",
    "        title=\"Score Distribution\"\n",
    "    ).update_traces(opacity=.6)\n",
    "    return fig\n",
    "\n",
    "if __name__ == \"__main__\":\n",
    "    app.run_server(mode=\"inline\", width=\"85%\")"
   ]
  },
  {
   "cell_type": "code",
   "execution_count": 8,
   "id": "c06da60f",
   "metadata": {},
   "outputs": [
    {
     "data": {
      "text/html": [
       "\n",
       "        <iframe\n",
       "            width=\"100%\"\n",
       "            height=\"650\"\n",
       "            src=\"http://127.0.0.1:8050/\"\n",
       "            frameborder=\"0\"\n",
       "            allowfullscreen\n",
       "            \n",
       "        ></iframe>\n",
       "        "
      ],
      "text/plain": [
       "<IPython.lib.display.IFrame at 0x7fc1088ddf70>"
      ]
     },
     "metadata": {},
     "output_type": "display_data"
    }
   ],
   "source": [
    "app = JupyterDash(__name__)\n",
    "\n",
    "app.layout = html.Div([\n",
    "    \"Trendline:\",\n",
    "    dcc.RadioItems(\n",
    "        id=\"toggle\",\n",
    "        options=[\"On\", \"Off\"],\n",
    "        value=[\"Off\"]\n",
    "    ),\n",
    "    dcc.Graph(id=\"graph\")\n",
    "])\n",
    "\n",
    "@app.callback(\n",
    "    Output(\"graph\", \"figure\"), \n",
    "    Input(\"toggle\", \"value\")\n",
    ")\n",
    "def plot_rev_scatter(ols):\n",
    "    fig = px.scatter(\n",
    "        education,\n",
    "        x=\"expenditure_per_student\",\n",
    "        y=\"AVG_MATH_8_SCORE\",\n",
    "        trendline=None if ols == \"Off\" else \"ols\",\n",
    "        title=\"The Relationship Between Spending and Test Scores\"\n",
    "    )\n",
    "    return fig\n",
    "\n",
    "if __name__ == \"__main__\":\n",
    "    app.run_server(mode=\"inline\")"
   ]
  },
  {
   "cell_type": "code",
   "execution_count": 9,
   "id": "6964edfd",
   "metadata": {},
   "outputs": [
    {
     "data": {
      "text/html": [
       "\n",
       "        <iframe\n",
       "            width=\"60%\"\n",
       "            height=\"650\"\n",
       "            src=\"http://127.0.0.1:8050/\"\n",
       "            frameborder=\"0\"\n",
       "            allowfullscreen\n",
       "            \n",
       "        ></iframe>\n",
       "        "
      ],
      "text/plain": [
       "<IPython.lib.display.IFrame at 0x7fc0e80b75b0>"
      ]
     },
     "metadata": {},
     "output_type": "display_data"
    }
   ],
   "source": [
    "app = JupyterDash(__name__)\n",
    "\n",
    "app.layout = html.Div([\n",
    "    dcc.Slider(id=\"spend\", min=0, max=30, step=5, value=15),\n",
    "    dcc.Graph(id=\"graph\")\n",
    "])\n",
    "\n",
    "@app.callback(Output(\"graph\", \"figure\"), Input(\"spend\", \"value\"))\n",
    "def plot_rev_bar(x):\n",
    "    fig = px.bar(\n",
    "        (education\n",
    "         .loc[education[\"expenditure_per_student\"] > x]\n",
    "         .groupby(\"YEAR\", as_index=False)\n",
    "         .count()),\n",
    "        x=\"YEAR\",\n",
    "        y=\"expenditure_per_student\",\n",
    "        title=f\"States that spend over ${x} per student\"\n",
    "    )\n",
    "    fig.update_yaxes(title=\"COUNT\", range=[0,50])\n",
    "    fig.update_xaxes(range=[1991,2017])\n",
    "    return fig\n",
    "\n",
    "if __name__ == \"__main__\":\n",
    "    app.run_server(mode=\"inline\", width=\"60%\")"
   ]
  },
  {
   "cell_type": "code",
   "execution_count": 10,
   "id": "a917cc8f",
   "metadata": {},
   "outputs": [
    {
     "data": {
      "text/html": [
       "\n",
       "        <iframe\n",
       "            width=\"60%\"\n",
       "            height=\"650\"\n",
       "            src=\"http://127.0.0.1:8050/\"\n",
       "            frameborder=\"0\"\n",
       "            allowfullscreen\n",
       "            \n",
       "        ></iframe>\n",
       "        "
      ],
      "text/plain": [
       "<IPython.lib.display.IFrame at 0x7fc10c602130>"
      ]
     },
     "metadata": {},
     "output_type": "display_data"
    }
   ],
   "source": [
    "app = JupyterDash(__name__)\n",
    "\n",
    "app.layout = html.Div([\n",
    "    dcc.RangeSlider(id=\"spend\", min=0, max=30, step=5, value=[10,15]),\n",
    "    dcc.Graph(id=\"graph\")\n",
    "])\n",
    "\n",
    "@app.callback(Output(\"graph\", \"figure\"), Input(\"spend\", \"value\"))\n",
    "def plot_rev_bar(x):\n",
    "    fig = px.bar(\n",
    "        (education\n",
    "         .loc[education[\"expenditure_per_student\"].between(x[0],x[1])]\n",
    "         .groupby(\"YEAR\", as_index=False)\n",
    "         .count()),\n",
    "        x=\"YEAR\",\n",
    "        y=\"expenditure_per_student\",\n",
    "        title=f\"States that spend between ${x[0]}-{x[1]} per student\"\n",
    "    )\n",
    "    fig.update_yaxes(title=\"COUNT\", range=[0,50])\n",
    "    fig.update_xaxes(range=[1991,2017])\n",
    "    return fig\n",
    "\n",
    "if __name__ == \"__main__\":\n",
    "    app.run_server(mode=\"inline\", width=\"60%\")"
   ]
  },
  {
   "cell_type": "code",
   "execution_count": 14,
   "id": "1e17a9ac",
   "metadata": {},
   "outputs": [
    {
     "name": "stdout",
     "output_type": "stream",
     "text": [
      "<class 'pandas.core.frame.DataFrame'>\n",
      "RangeIndex: 125445 entries, 0 to 125444\n",
      "Data columns (total 20 columns):\n",
      " #   Column               Non-Null Count   Dtype  \n",
      "---  ------               --------------   -----  \n",
      " 0   COLLISION_ID         125445 non-null  int64  \n",
      " 1   ACCIDENT_DATE        125445 non-null  object \n",
      " 2   ACCIDENT_TIME        125445 non-null  object \n",
      " 3   BOROUGH              82108 non-null   object \n",
      " 4   ZIP CODE             82094 non-null   float64\n",
      " 5   LATITUDE             114305 non-null  float64\n",
      " 6   LONGITUDE            114305 non-null  float64\n",
      " 7   STREET NAME          91652 non-null   object \n",
      " 8   CROSS STREET NAME    58102 non-null   object \n",
      " 9   FULL ADDRESS         33792 non-null   object \n",
      " 10  VEHICLE TYPE         123922 non-null  object \n",
      " 11  CONTRIBUTING FACTOR  124814 non-null  object \n",
      " 12  PERSONS INJURED      125444 non-null  float64\n",
      " 13  PERSONS KILLED       125445 non-null  int64  \n",
      " 14  PEDESTRIANS INJURED  125445 non-null  int64  \n",
      " 15  PEDESTRIANS KILLED   125445 non-null  int64  \n",
      " 16  CYCLIST INJURED      125445 non-null  int64  \n",
      " 17  CYCLIST KILLED       125445 non-null  int64  \n",
      " 18  MOTORIST INJURED     125445 non-null  int64  \n",
      " 19  MOTORIST KILLED      125445 non-null  int64  \n",
      "dtypes: float64(4), int64(8), object(8)\n",
      "memory usage: 19.1+ MB\n"
     ]
    }
   ],
   "source": [
    "nyc = pd.read_csv(\"NYC_Collisions.csv\")\n",
    "\n",
    "nyc.info()"
   ]
  },
  {
   "cell_type": "code",
   "execution_count": 28,
   "id": "ca235838",
   "metadata": {},
   "outputs": [
    {
     "data": {
      "text/html": [
       "<div>\n",
       "<style scoped>\n",
       "    .dataframe tbody tr th:only-of-type {\n",
       "        vertical-align: middle;\n",
       "    }\n",
       "\n",
       "    .dataframe tbody tr th {\n",
       "        vertical-align: top;\n",
       "    }\n",
       "\n",
       "    .dataframe thead th {\n",
       "        text-align: right;\n",
       "    }\n",
       "</style>\n",
       "<table border=\"1\" class=\"dataframe\">\n",
       "  <thead>\n",
       "    <tr style=\"text-align: right;\">\n",
       "      <th></th>\n",
       "      <th>DATE</th>\n",
       "      <th>BOROUGH</th>\n",
       "      <th>COLLISIONS</th>\n",
       "    </tr>\n",
       "  </thead>\n",
       "  <tbody>\n",
       "    <tr>\n",
       "      <th>0</th>\n",
       "      <td>2021-01-01</td>\n",
       "      <td>BRONX</td>\n",
       "      <td>28</td>\n",
       "    </tr>\n",
       "    <tr>\n",
       "      <th>1</th>\n",
       "      <td>2021-01-01</td>\n",
       "      <td>BROOKLYN</td>\n",
       "      <td>72</td>\n",
       "    </tr>\n",
       "    <tr>\n",
       "      <th>2</th>\n",
       "      <td>2021-01-01</td>\n",
       "      <td>MANHATTAN</td>\n",
       "      <td>23</td>\n",
       "    </tr>\n",
       "    <tr>\n",
       "      <th>3</th>\n",
       "      <td>2021-01-01</td>\n",
       "      <td>QUEENS</td>\n",
       "      <td>44</td>\n",
       "    </tr>\n",
       "    <tr>\n",
       "      <th>4</th>\n",
       "      <td>2021-01-01</td>\n",
       "      <td>STATEN ISLAND</td>\n",
       "      <td>8</td>\n",
       "    </tr>\n",
       "  </tbody>\n",
       "</table>\n",
       "</div>"
      ],
      "text/plain": [
       "        DATE        BOROUGH  COLLISIONS\n",
       "0 2021-01-01          BRONX          28\n",
       "1 2021-01-01       BROOKLYN          72\n",
       "2 2021-01-01      MANHATTAN          23\n",
       "3 2021-01-01         QUEENS          44\n",
       "4 2021-01-01  STATEN ISLAND           8"
      ]
     },
     "execution_count": 28,
     "metadata": {},
     "output_type": "execute_result"
    }
   ],
   "source": [
    "collisions = (\n",
    "    pd.read_csv(\"NYC_Collisions.csv\")\n",
    "    .astype({\"ACCIDENT_DATE\": \"datetime64\"})\n",
    "    .loc[:,[\"ACCIDENT_DATE\", \"BOROUGH\", \"COLLISION_ID\"]]\n",
    "    .groupby([\"ACCIDENT_DATE\", \"BOROUGH\"], as_index=False)\n",
    "    .count()\n",
    "    .rename(columns = {\n",
    "        \"COLLISION_ID\":\"COLLISIONS\", \n",
    "        \"ACCIDENT_DATE\":\"DATE\"}\n",
    "           )  \n",
    ")\n",
    "\n",
    "collisions.head()"
   ]
  },
  {
   "cell_type": "code",
   "execution_count": 29,
   "id": "72a50380",
   "metadata": {},
   "outputs": [
    {
     "data": {
      "text/html": [
       "\n",
       "        <iframe\n",
       "            width=\"100%\"\n",
       "            height=\"650\"\n",
       "            src=\"http://127.0.0.1:8181/\"\n",
       "            frameborder=\"0\"\n",
       "            allowfullscreen\n",
       "            \n",
       "        ></iframe>\n",
       "        "
      ],
      "text/plain": [
       "<IPython.lib.display.IFrame at 0x7f98bb691b20>"
      ]
     },
     "metadata": {},
     "output_type": "display_data"
    }
   ],
   "source": [
    "app = JupyterDash(__name__)\n",
    "\n",
    "app.layout = html.Div([\n",
    "    dcc.DatePickerSingle(\n",
    "        id=\"date picker\",\n",
    "        min_date_allowed=collisions[\"DATE\"].min(),\n",
    "        max_date_allowed=collisions[\"DATE\"].max(),\n",
    "        initial_visible_month=collisions[\"DATE\"].max(),\n",
    "        date=collisions[\"DATE\"].max(),\n",
    "        display_format=\"YYYY-MM-DD\"\n",
    "    ),\n",
    "    dcc.Graph(id=\"graph\")\n",
    "])\n",
    "\n",
    "@app.callback(Output(\"graph\", \"figure\"), Input(\"date picker\", \"date\"))\n",
    "def plot_collisions_bar(date):\n",
    "    fig = px.bar(\n",
    "        collisions.loc[collisions[\"DATE\"].eq(date)],\n",
    "        x=\"COLLISIONS\",\n",
    "        y=\"BOROUGH\",\n",
    "        title=f\"Traffic Accidents in NYC on {date}\"\n",
    "    )\n",
    "    return fig\n",
    "\n",
    "if __name__ == \"__main__\":\n",
    "    app.run_server(mode=\"inline\")"
   ]
  },
  {
   "cell_type": "code",
   "execution_count": 30,
   "id": "d0370804",
   "metadata": {},
   "outputs": [
    {
     "ename": "TypeError",
     "evalue": "an integer is required (got type NoneType)",
     "output_type": "error",
     "traceback": [
      "\u001b[0;31m---------------------------------------------------------------------------\u001b[0m",
      "\u001b[0;31mTypeError\u001b[0m                                 Traceback (most recent call last)",
      "\u001b[0;32m/var/folders/f8/075hbnj13wb0f9yzh9k4nyz00000gn/T/ipykernel_38152/2102203956.py\u001b[0m in \u001b[0;36m<module>\u001b[0;34m\u001b[0m\n\u001b[1;32m     28\u001b[0m \u001b[0;34m\u001b[0m\u001b[0m\n\u001b[1;32m     29\u001b[0m \u001b[0;32mif\u001b[0m \u001b[0m__name__\u001b[0m \u001b[0;34m==\u001b[0m \u001b[0;34m\"__main__\"\u001b[0m\u001b[0;34m:\u001b[0m\u001b[0;34m\u001b[0m\u001b[0;34m\u001b[0m\u001b[0m\n\u001b[0;32m---> 30\u001b[0;31m     \u001b[0mapp\u001b[0m\u001b[0;34m.\u001b[0m\u001b[0mrun_server\u001b[0m\u001b[0;34m(\u001b[0m\u001b[0mmode\u001b[0m\u001b[0;34m=\u001b[0m\u001b[0;34m\"inline\"\u001b[0m\u001b[0;34m,\u001b[0m\u001b[0mwidth\u001b[0m\u001b[0;34m=\u001b[0m\u001b[0;34m\"60%\"\u001b[0m\u001b[0;34m)\u001b[0m\u001b[0;34m\u001b[0m\u001b[0;34m\u001b[0m\u001b[0m\n\u001b[0m",
      "\u001b[0;32m~/opt/anaconda3/lib/python3.9/site-packages/jupyter_dash/jupyter_app.py\u001b[0m in \u001b[0;36mrun_server\u001b[0;34m(self, mode, width, height, inline_exceptions, **kwargs)\u001b[0m\n\u001b[1;32m    220\u001b[0m         \u001b[0mold_server\u001b[0m \u001b[0;34m=\u001b[0m \u001b[0mself\u001b[0m\u001b[0;34m.\u001b[0m\u001b[0m_server_threads\u001b[0m\u001b[0;34m.\u001b[0m\u001b[0mget\u001b[0m\u001b[0;34m(\u001b[0m\u001b[0;34m(\u001b[0m\u001b[0mhost\u001b[0m\u001b[0;34m,\u001b[0m \u001b[0mport\u001b[0m\u001b[0;34m)\u001b[0m\u001b[0;34m)\u001b[0m\u001b[0;34m\u001b[0m\u001b[0;34m\u001b[0m\u001b[0m\n\u001b[1;32m    221\u001b[0m         \u001b[0;32mif\u001b[0m \u001b[0mold_server\u001b[0m\u001b[0;34m:\u001b[0m\u001b[0;34m\u001b[0m\u001b[0;34m\u001b[0m\u001b[0m\n\u001b[0;32m--> 222\u001b[0;31m             \u001b[0mold_server\u001b[0m\u001b[0;34m.\u001b[0m\u001b[0mkill\u001b[0m\u001b[0;34m(\u001b[0m\u001b[0;34m)\u001b[0m\u001b[0;34m\u001b[0m\u001b[0;34m\u001b[0m\u001b[0m\n\u001b[0m\u001b[1;32m    223\u001b[0m             \u001b[0mold_server\u001b[0m\u001b[0;34m.\u001b[0m\u001b[0mjoin\u001b[0m\u001b[0;34m(\u001b[0m\u001b[0;34m)\u001b[0m\u001b[0;34m\u001b[0m\u001b[0;34m\u001b[0m\u001b[0m\n\u001b[1;32m    224\u001b[0m             \u001b[0;32mdel\u001b[0m \u001b[0mself\u001b[0m\u001b[0;34m.\u001b[0m\u001b[0m_server_threads\u001b[0m\u001b[0;34m[\u001b[0m\u001b[0;34m(\u001b[0m\u001b[0mhost\u001b[0m\u001b[0;34m,\u001b[0m \u001b[0mport\u001b[0m\u001b[0;34m)\u001b[0m\u001b[0;34m]\u001b[0m\u001b[0;34m\u001b[0m\u001b[0;34m\u001b[0m\u001b[0m\n",
      "\u001b[0;32m~/opt/anaconda3/lib/python3.9/site-packages/jupyter_dash/_stoppable_thread.py\u001b[0m in \u001b[0;36mkill\u001b[0;34m(self)\u001b[0m\n\u001b[1;32m     14\u001b[0m         \u001b[0mthread_id\u001b[0m \u001b[0;34m=\u001b[0m \u001b[0mself\u001b[0m\u001b[0;34m.\u001b[0m\u001b[0mget_id\u001b[0m\u001b[0;34m(\u001b[0m\u001b[0;34m)\u001b[0m\u001b[0;34m\u001b[0m\u001b[0;34m\u001b[0m\u001b[0m\n\u001b[1;32m     15\u001b[0m         res = ctypes.pythonapi.PyThreadState_SetAsyncExc(\n\u001b[0;32m---> 16\u001b[0;31m             \u001b[0mctypes\u001b[0m\u001b[0;34m.\u001b[0m\u001b[0mc_long\u001b[0m\u001b[0;34m(\u001b[0m\u001b[0mthread_id\u001b[0m\u001b[0;34m)\u001b[0m\u001b[0;34m,\u001b[0m \u001b[0mctypes\u001b[0m\u001b[0;34m.\u001b[0m\u001b[0mpy_object\u001b[0m\u001b[0;34m(\u001b[0m\u001b[0mSystemExit\u001b[0m\u001b[0;34m)\u001b[0m\u001b[0;34m\u001b[0m\u001b[0;34m\u001b[0m\u001b[0m\n\u001b[0m\u001b[1;32m     17\u001b[0m         )\n\u001b[1;32m     18\u001b[0m         \u001b[0;32mif\u001b[0m \u001b[0mres\u001b[0m \u001b[0;34m==\u001b[0m \u001b[0;36m0\u001b[0m\u001b[0;34m:\u001b[0m\u001b[0;34m\u001b[0m\u001b[0;34m\u001b[0m\u001b[0m\n",
      "\u001b[0;31mTypeError\u001b[0m: an integer is required (got type NoneType)"
     ]
    }
   ],
   "source": [
    "app = JupyterDash(__name__)\n",
    "\n",
    "app.layout = html.Div([\n",
    "    dcc.DatePickerRange(\n",
    "        id=\"dates\",\n",
    "        start_date=collisions[\"DATE\"].min(),\n",
    "        end_date=collisions[\"DATE\"].max(),\n",
    "        display_format=\"YYYY-MM-DD\"\n",
    "    ),\n",
    "    dcc.Graph(id=\"graph\")\n",
    "])\n",
    "\n",
    "@app.callback(\n",
    "    Output(\"graph\", \"figure\"),\n",
    "    [Input(\"dates\", \"start_date\"),Input(\"dates\", \"end_date\")]\n",
    ")\n",
    "def plot_rev_line(start, end):\n",
    "    fig = px.line(\n",
    "        (collisions\n",
    "         .loc[collisions[\"DATE\"].between(start, end)]\n",
    "         .groupby(\"DATE\", as_index=False)\n",
    "         .sum()),\n",
    "        x=\"DATE\",\n",
    "        y=\"COLLISIONS\",\n",
    "        title=f\"Traffic Accidents in NYC\"\n",
    "    )\n",
    "    return fig\n",
    "\n",
    "if __name__ == \"__main__\":\n",
    "    app.run_server(mode=\"inline\",width=\"60%\")"
   ]
  },
  {
   "cell_type": "code",
   "execution_count": 87,
   "id": "87dd0b6e",
   "metadata": {},
   "outputs": [
    {
     "data": {
      "text/html": [
       "\n",
       "        <iframe\n",
       "            width=\"55%\"\n",
       "            height=\"650\"\n",
       "            src=\"http://127.0.0.1:8050/\"\n",
       "            frameborder=\"0\"\n",
       "            allowfullscreen\n",
       "            \n",
       "        ></iframe>\n",
       "        "
      ],
      "text/plain": [
       "<IPython.lib.display.IFrame at 0x7fc13ba4de50>"
      ]
     },
     "metadata": {},
     "output_type": "display_data"
    }
   ],
   "source": [
    "app = JupyterDash(__name__)\n",
    "\n",
    "app.layout = html.Div([\n",
    "    html.H2(id=\"header\"),\n",
    "    dcc.Dropdown(\n",
    "        id=\"column\",\n",
    "        options=list(education.select_dtypes(include=\"number\").columns),\n",
    "        value=\"expenditure_per_student\"\n",
    "    ),\n",
    "    dcc.Graph(id=\"graph\")\n",
    "])\n",
    "\n",
    "@app.callback(\n",
    "    Output(\"header\", \"children\"),\n",
    "    Output(\"graph\", \"figure\"), \n",
    "    Input(\"column\", \"value\")\n",
    ")\n",
    "def plot_rev_scatter(x):\n",
    "    fig = px.scatter(\n",
    "        education,\n",
    "        x=x,\n",
    "        y=\"AVG_MATH_8_SCORE\",\n",
    "        trendline=\"ols\"\n",
    "    )\n",
    "    header = f\"Avg Math 8 Score vs {x.title().replace('_', ' ')}\"\n",
    "    return header, fig\n",
    "\n",
    "if __name__ == \"__main__\":\n",
    "    app.run_server(mode=\"inline\", width=\"55%\")"
   ]
  },
  {
   "cell_type": "code",
   "execution_count": 92,
   "id": "05cc95a2",
   "metadata": {},
   "outputs": [
    {
     "data": {
      "text/html": [
       "\n",
       "        <iframe\n",
       "            width=\"55%\"\n",
       "            height=\"650\"\n",
       "            src=\"http://127.0.0.1:8050/\"\n",
       "            frameborder=\"0\"\n",
       "            allowfullscreen\n",
       "            \n",
       "        ></iframe>\n",
       "        "
      ],
      "text/plain": [
       "<IPython.lib.display.IFrame at 0x7fc0f974cb50>"
      ]
     },
     "metadata": {},
     "output_type": "display_data"
    }
   ],
   "source": [
    "app = JupyterDash(__name__)\n",
    "\n",
    "app.layout = html.Div([\n",
    "    html.H2(id=\"header\"),\n",
    "    dcc.Dropdown(\n",
    "        id=\"y column\",\n",
    "        options=list(education.select_dtypes(include=\"number\").columns),\n",
    "        value=\"AVG_MATH_8_SCORE\"\n",
    "    ),\n",
    "    dcc.Dropdown(\n",
    "        id=\"x column\",\n",
    "        options=list(education.select_dtypes(include=\"number\").columns),\n",
    "        value=\"expenditure_per_student\"\n",
    "    ),\n",
    "    dcc.Graph(id=\"graph\")\n",
    "])\n",
    "\n",
    "@app.callback(\n",
    "    [Output(\"header\", \"children\"), Output(\"graph\", \"figure\")], \n",
    "    [Input(\"x column\", \"value\"), Input(\"y column\", \"value\")]\n",
    ")\n",
    "def plot_rev_scatter(x, y):\n",
    "    fig = px.scatter(\n",
    "        education,\n",
    "        x=x,\n",
    "        y=y,\n",
    "        trendline=\"ols\"\n",
    "    )\n",
    "    header = f\"{y.title().replace('_', ' ')} vs {x.title().replace('_', ' ')}\"\n",
    "    return header, fig\n",
    "\n",
    "if __name__ == \"__main__\":\n",
    "    app.run_server(mode=\"inline\", width=\"55%\")"
   ]
  },
  {
   "cell_type": "code",
   "execution_count": 98,
   "id": "d3938b6d",
   "metadata": {},
   "outputs": [
    {
     "data": {
      "text/html": [
       "\n",
       "        <iframe\n",
       "            width=\"55%\"\n",
       "            height=\"650\"\n",
       "            src=\"http://127.0.0.1:8050/\"\n",
       "            frameborder=\"0\"\n",
       "            allowfullscreen\n",
       "            \n",
       "        ></iframe>\n",
       "        "
      ],
      "text/plain": [
       "<IPython.lib.display.IFrame at 0x7fc0c91b1e80>"
      ]
     },
     "metadata": {},
     "output_type": "display_data"
    }
   ],
   "source": [
    "app = JupyterDash(__name__)\n",
    "\n",
    "app.layout = html.Div([\n",
    "    dcc.Dropdown(\n",
    "        id=\"x column\",\n",
    "        options=list(education.select_dtypes(include=\"number\").columns),\n",
    "        value=\"expenditure_per_student\"\n",
    "    ),\n",
    "    dcc.Dropdown(\n",
    "        id=\"y column\",\n",
    "        options=list(education.select_dtypes(include=\"number\").columns),\n",
    "        value=\"AVG_MATH_8_SCORE\"\n",
    "    ),\n",
    "    dcc.Graph(id=\"graph\")\n",
    "])\n",
    "\n",
    "@app.callback(\n",
    "    Output(\"graph\", \"figure\"), \n",
    "    Input(\"x column\", \"value\"), \n",
    "    Input(\"y column\", \"value\")\n",
    ")\n",
    "def plot_rev_scatter(x, y):\n",
    "    fig = px.scatter(\n",
    "        education,\n",
    "        x=x,\n",
    "        y=y,\n",
    "        trendline=\"ols\"\n",
    "    )\n",
    "    return fig\n",
    "\n",
    "if __name__ == \"__main__\":\n",
    "    app.run_server(mode=\"inline\", width=\"55%\")"
   ]
  },
  {
   "cell_type": "code",
   "execution_count": 102,
   "id": "81b037d3",
   "metadata": {},
   "outputs": [
    {
     "data": {
      "text/html": [
       "\n",
       "        <iframe\n",
       "            width=\"55%\"\n",
       "            height=\"650\"\n",
       "            src=\"http://127.0.0.1:8050/\"\n",
       "            frameborder=\"0\"\n",
       "            allowfullscreen\n",
       "            \n",
       "        ></iframe>\n",
       "        "
      ],
      "text/plain": [
       "<IPython.lib.display.IFrame at 0x7fc0e70765e0>"
      ]
     },
     "metadata": {},
     "output_type": "display_data"
    }
   ],
   "source": [
    "app = JupyterDash(__name__)\n",
    "\n",
    "app.layout = html.Div([\n",
    "    html.H2(id=\"header\"),\n",
    "    dcc.Dropdown(\n",
    "        id=\"x column\",\n",
    "        options=list(education.select_dtypes(include=\"number\").columns),\n",
    "        value=\"expenditure_per_student\"\n",
    "    ),\n",
    "    dcc.Dropdown(\n",
    "        id=\"y column\",\n",
    "        options=list(education.select_dtypes(include=\"number\").columns),\n",
    "        value=\"AVG_MATH_8_SCORE\"\n",
    "    ),\n",
    "    dcc.Graph(id=\"graph\")\n",
    "])\n",
    "\n",
    "@app.callback(\n",
    "    Output(\"header\", \"children\"),\n",
    "    Output(\"graph\", \"figure\"), \n",
    "    Input(\"x column\", \"value\"), \n",
    "    Input(\"y column\", \"value\")\n",
    ")\n",
    "def plot_rev_scatter(x, y):\n",
    "    fig = px.scatter(\n",
    "        education,\n",
    "        x=x,\n",
    "        y=y,\n",
    "        trendline=\"ols\"\n",
    "    )\n",
    "    header = f\"{x.title().replace('_', ' ')} vs {y.title().replace('_', ' ')}\"\n",
    "    return header, fig\n",
    "\n",
    "if __name__ == \"__main__\":\n",
    "    app.run_server(mode=\"inline\", width=\"55%\")"
   ]
  }
 ],
 "metadata": {
  "kernelspec": {
   "display_name": "Python 3 (ipykernel)",
   "language": "python",
   "name": "python3"
  },
  "language_info": {
   "codemirror_mode": {
    "name": "ipython",
    "version": 3
   },
   "file_extension": ".py",
   "mimetype": "text/x-python",
   "name": "python",
   "nbconvert_exporter": "python",
   "pygments_lexer": "ipython3",
   "version": "3.9.13"
  }
 },
 "nbformat": 4,
 "nbformat_minor": 5
}
