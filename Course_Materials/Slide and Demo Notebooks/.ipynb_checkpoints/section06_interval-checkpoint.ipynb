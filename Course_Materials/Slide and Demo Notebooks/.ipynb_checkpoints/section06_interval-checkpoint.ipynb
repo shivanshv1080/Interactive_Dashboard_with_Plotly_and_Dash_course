{
 "cells": [
  {
   "cell_type": "code",
   "execution_count": null,
   "id": "d0859b14",
   "metadata": {},
   "outputs": [],
   "source": [
    "from jupyter_dash import JupyterDash\n",
    "from dash import dcc, html\n",
    "import dash_bootstrap_components as dbc\n",
    "from dash.dependencies import Output, Input\n",
    "from dash.exceptions import PreventUpdate\n",
    "from dash_bootstrap_templates import load_figure_template\n",
    "\n",
    "import plotly.express as px\n",
    "import pandas as pd\n",
    "\n",
    "\n",
    "dbc_css = \"https://cdn.jsdelivr.net/gh/AnnMarieW/dash-bootstrap-templates/dbc.min.css\"\n",
    "\n",
    "app = JupyterDash(__name__, external_stylesheets=[dbc.themes.SLATE, dbc_css])\n",
    "\n",
    "load_figure_template(\"SLATE\")\n",
    "\n",
    "from numpy.random import default_rng\n",
    "rng = default_rng(2023)\n",
    "\n",
    "app.layout = html.Div([\n",
    "    dbc.Row(html.H1(\"Normal Distribution Simulator\", style={\"text-align\": \"center\"})),\n",
    "    dbc.Row(dbc.Col(dcc.Graph(id=\"random-data-scatter\"))),\n",
    "    dcc.Interval(id=\"refresh-data-interval\", interval=1000, n_intervals=0)\n",
    "])\n",
    "\n",
    "@app.callback(\n",
    "    Output(\"random-data-scatter\", \"figure\"),\n",
    "    Input(\"refresh-data-interval\", \"n_intervals\")\n",
    ")\n",
    "\n",
    "def rand_hist(n_intervals):\n",
    "    mean, stddev = 100, 10\n",
    "    fig = px.histogram(\n",
    "        x=rng.normal(mean, stddev, size=100),\n",
    "        title=f\"Random Histogram has run {n_intervals} times\"\n",
    "    )\n",
    "    return fig\n",
    "\n",
    "\n",
    "if __name__ == \"__main__\":\n",
    "    app.run_server(debug=True, mode=\"inline\", port=8260)"
   ]
  },
  {
   "cell_type": "code",
   "execution_count": null,
   "id": "e7a0ff57",
   "metadata": {},
   "outputs": [],
   "source": [
    "# !pip install finnhub-python"
   ]
  },
  {
   "cell_type": "code",
   "execution_count": null,
   "id": "023afce0",
   "metadata": {},
   "outputs": [],
   "source": [
    "# my_api_key = \"YOUR API KEY HERE\" # change before demo"
   ]
  },
  {
   "cell_type": "code",
   "execution_count": null,
   "id": "e9730de8",
   "metadata": {},
   "outputs": [],
   "source": [
    "import finnhub\n",
    "finnhub_client = finnhub.Client(api_key=my_api_key)\n",
    "\n",
    "print(finnhub_client.quote('AAPL'))"
   ]
  },
  {
   "cell_type": "code",
   "execution_count": null,
   "id": "0b9f62f9",
   "metadata": {},
   "outputs": [],
   "source": [
    "print(finnhub_client.quote('AAPL'))"
   ]
  },
  {
   "cell_type": "code",
   "execution_count": null,
   "id": "ffce14aa",
   "metadata": {},
   "outputs": [],
   "source": [
    "from jupyter_dash import JupyterDash\n",
    "from dash import dcc, html\n",
    "import dash_bootstrap_components as dbc\n",
    "from dash.dependencies import Output, Input\n",
    "from dash.exceptions import PreventUpdate\n",
    "from dash_bootstrap_templates import load_figure_template\n",
    "\n",
    "from datetime import datetime, date\n",
    "import finnhub\n",
    "\n",
    "import plotly.express as px\n",
    "import pandas as pd\n",
    "\n",
    "\n",
    "\n",
    "\n",
    "dbc_css = \"https://cdn.jsdelivr.net/gh/AnnMarieW/dash-bootstrap-templates/dbc.min.css\"\n",
    "\n",
    "app = JupyterDash(__name__, external_stylesheets=[dbc.themes.SLATE, dbc_css])\n",
    "\n",
    "\n",
    "finnhub_client = finnhub.Client(api_key=my_api_key)\n",
    "\n",
    "load_figure_template(\"SLATE\")\n",
    "\n",
    "stock_df = pd.DataFrame(finnhub_client.quote('AAPL'), index=[0])\n",
    "\n",
    "def append_row(dataframe):\n",
    "    row = finnhub_client.quote('AAPL')\n",
    "    temp_df = pd.DataFrame(row, index=[0])\n",
    "    merged_df = pd.concat([dataframe, temp_df])\n",
    "    return merged_df\n",
    "\n",
    "\n",
    "app.layout = html.Div([\n",
    "    dbc.Row(html.H1(\"Real-Time Stock Tracker\", style={\"text-align\": \"center\"})),\n",
    "    dbc.Row(dbc.Col(dcc.Graph(id=\"stock-price-line\"))),\n",
    "    dcc.Interval(id=\"refresh-data-interval\", interval=1000)\n",
    "])\n",
    "\n",
    "@app.callback(\n",
    "    Output(\"stock-price-line\", \"figure\"),\n",
    "    Input(\"refresh-data-interval\", \"n_intervals\")\n",
    ")\n",
    "\n",
    "\n",
    "def stock_line(n_intervals):\n",
    "    global stock_df\n",
    "    stock_df = append_row(stock_df)\n",
    "    \n",
    "    fig = px.line(\n",
    "        (stock_df\n",
    "         .assign(t = pd.to_datetime(stock_df[\"t\"], unit=\"s\"))\n",
    "         .rename({\"c\": \"Price\"}, axis=1)\n",
    "        ),\n",
    "        x=\"t\",\n",
    "        y=\"Price\",\n",
    "        title=f\"AAPL Stock Price as of {datetime.now()}\"\n",
    "    ).update_layout({\"title\": {\"x\": .5}})\n",
    "    return fig\n",
    "\n",
    "\n",
    "if __name__ == \"__main__\":\n",
    "    app.run_server(debug=True, port=8260)\n"
   ]
  },
  {
   "cell_type": "code",
   "execution_count": null,
   "id": "163423e0",
   "metadata": {},
   "outputs": [],
   "source": [
    "stock_df = pd.DataFrame(finnhub_client.quote('AAPL'), index=[0])\n",
    "    \n",
    "stock_df = pd.concat([\n",
    "        stock_df,\n",
    "        pd.DataFrame(finnhub_client.quote('AAPL'), index=[0])])\n",
    "    \n",
    "stock_df = (stock_df\n",
    "     .assign(t = pd.to_datetime(stock_df[\"t\"], unit=\"s\"))\n",
    "     .rename({\"c\": \"Price\"}, axis=1))\n",
    "\n",
    "stock_df"
   ]
  },
  {
   "cell_type": "code",
   "execution_count": null,
   "id": "80502e95",
   "metadata": {},
   "outputs": [],
   "source": [
    "stock_df = pd.DataFrame(finnhub_client.quote('AAPL'), index=[0])\n",
    "\n",
    "for i in range(10):\n",
    "    stock_df = append_row(stock_df).assign(t=pd.to_datetime(test[\"t\"], unit=\"s\"))\n",
    "    \n",
    "stock_df"
   ]
  },
  {
   "cell_type": "code",
   "execution_count": null,
   "id": "ee2144e7",
   "metadata": {},
   "outputs": [],
   "source": [
    "px.line(stock_df, x=\"t\", y=\"c\")"
   ]
  },
  {
   "cell_type": "code",
   "execution_count": null,
   "id": "c24e4694",
   "metadata": {},
   "outputs": [],
   "source": [
    "append_row(stock_df)\n"
   ]
  },
  {
   "cell_type": "code",
   "execution_count": null,
   "id": "9b3e9cb4",
   "metadata": {},
   "outputs": [],
   "source": []
  }
 ],
 "metadata": {
  "kernelspec": {
   "display_name": "Python 3 (ipykernel)",
   "language": "python",
   "name": "python3"
  },
  "language_info": {
   "codemirror_mode": {
    "name": "ipython",
    "version": 3
   },
   "file_extension": ".py",
   "mimetype": "text/x-python",
   "name": "python",
   "nbconvert_exporter": "python",
   "pygments_lexer": "ipython3",
   "version": "3.9.13"
  }
 },
 "nbformat": 4,
 "nbformat_minor": 5
}
